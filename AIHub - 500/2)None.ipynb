{
 "cells": [
  {
   "cell_type": "code",
   "execution_count": 1,
   "id": "dd068978-928b-47d0-812e-32e4b8bcf27a",
   "metadata": {},
   "outputs": [
    {
     "name": "stdout",
     "output_type": "stream",
     "text": [
      "Sample 1 saved to ./Data/None/None_1.csv\n",
      "Sample 2 saved to ./Data/None/None_2.csv\n",
      "Sample 3 saved to ./Data/None/None_3.csv\n",
      "Sample 4 saved to ./Data/None/None_4.csv\n",
      "Sample 5 saved to ./Data/None/None_5.csv\n"
     ]
    }
   ],
   "source": [
    "import pandas as pd\n",
    "import os\n",
    "\n",
    "# 데이터 파일 경로\n",
    "file_path = \"./Data/Train.csv\"\n",
    "\n",
    "# 데이터 로드\n",
    "data = pd.read_csv(file_path)\n",
    "\n",
    "# 랜덤 샘플링 100개씩 5번 추출\n",
    "output_dir = \"./Data/None\"\n",
    "os.makedirs(output_dir, exist_ok=True)\n",
    "\n",
    "for i in range(1, 6):  # 1부터 5까지\n",
    "    sampled_data = data.sample(n=500, random_state=i)  # 랜덤 시드 고정\n",
    "    output_file = os.path.join(output_dir, f\"None_{i}.csv\")\n",
    "    sampled_data.to_csv(output_file, index=False)\n",
    "    print(f\"Sample {i} saved to {output_file}\")"
   ]
  },
  {
   "cell_type": "code",
   "execution_count": 2,
   "id": "d2c5400c-66a8-40a8-8f38-1089a5bc6d74",
   "metadata": {},
   "outputs": [
    {
     "name": "stderr",
     "output_type": "stream",
     "text": [
      "Some weights of BertForSequenceClassification were not initialized from the model checkpoint at bert-base-uncased and are newly initialized: ['classifier.bias', 'classifier.weight']\n",
      "You should probably TRAIN this model on a down-stream task to be able to use it for predictions and inference.\n",
      "/usr/local/lib/python3.9/dist-packages/transformers/optimization.py:591: FutureWarning: This implementation of AdamW is deprecated and will be removed in a future version. Use the PyTorch implementation torch.optim.AdamW instead, or set `no_deprecation_warning=True` to disable this warning\n",
      "  warnings.warn(\n"
     ]
    },
    {
     "name": "stdout",
     "output_type": "stream",
     "text": [
      "None_1.csv - Epoch 1 - Loss: 31.4989\n",
      "None_1.csv - Epoch 2 - Loss: 30.7459\n",
      "None_1.csv - Epoch 3 - Loss: 30.7331\n",
      "Test Results for None_1.csv: F1 Micro = 0.1932, F1 Macro = 0.1362\n"
     ]
    },
    {
     "name": "stderr",
     "output_type": "stream",
     "text": [
      "/usr/local/lib/python3.9/dist-packages/transformers/optimization.py:591: FutureWarning: This implementation of AdamW is deprecated and will be removed in a future version. Use the PyTorch implementation torch.optim.AdamW instead, or set `no_deprecation_warning=True` to disable this warning\n",
      "  warnings.warn(\n"
     ]
    },
    {
     "name": "stdout",
     "output_type": "stream",
     "text": [
      "None_2.csv - Epoch 1 - Loss: 30.9894\n",
      "None_2.csv - Epoch 2 - Loss: 29.7358\n",
      "None_2.csv - Epoch 3 - Loss: 28.7873\n",
      "Test Results for None_2.csv: F1 Micro = 0.2334, F1 Macro = 0.2060\n"
     ]
    },
    {
     "name": "stderr",
     "output_type": "stream",
     "text": [
      "/usr/local/lib/python3.9/dist-packages/transformers/optimization.py:591: FutureWarning: This implementation of AdamW is deprecated and will be removed in a future version. Use the PyTorch implementation torch.optim.AdamW instead, or set `no_deprecation_warning=True` to disable this warning\n",
      "  warnings.warn(\n"
     ]
    },
    {
     "name": "stdout",
     "output_type": "stream",
     "text": [
      "None_3.csv - Epoch 1 - Loss: 30.2929\n",
      "None_3.csv - Epoch 2 - Loss: 29.0246\n",
      "None_3.csv - Epoch 3 - Loss: 28.3471\n",
      "Test Results for None_3.csv: F1 Micro = 0.2358, F1 Macro = 0.2041\n"
     ]
    },
    {
     "name": "stderr",
     "output_type": "stream",
     "text": [
      "/usr/local/lib/python3.9/dist-packages/transformers/optimization.py:591: FutureWarning: This implementation of AdamW is deprecated and will be removed in a future version. Use the PyTorch implementation torch.optim.AdamW instead, or set `no_deprecation_warning=True` to disable this warning\n",
      "  warnings.warn(\n"
     ]
    },
    {
     "name": "stdout",
     "output_type": "stream",
     "text": [
      "None_4.csv - Epoch 1 - Loss: 30.0550\n",
      "None_4.csv - Epoch 2 - Loss: 28.5622\n",
      "None_4.csv - Epoch 3 - Loss: 27.2252\n",
      "Test Results for None_4.csv: F1 Micro = 0.2563, F1 Macro = 0.2190\n"
     ]
    },
    {
     "name": "stderr",
     "output_type": "stream",
     "text": [
      "/usr/local/lib/python3.9/dist-packages/transformers/optimization.py:591: FutureWarning: This implementation of AdamW is deprecated and will be removed in a future version. Use the PyTorch implementation torch.optim.AdamW instead, or set `no_deprecation_warning=True` to disable this warning\n",
      "  warnings.warn(\n"
     ]
    },
    {
     "name": "stdout",
     "output_type": "stream",
     "text": [
      "None_5.csv - Epoch 1 - Loss: 29.5941\n",
      "None_5.csv - Epoch 2 - Loss: 27.6609\n",
      "None_5.csv - Epoch 3 - Loss: 26.3435\n",
      "Test Results for None_5.csv: F1 Micro = 0.2547, F1 Macro = 0.2149\n",
      "Summary saved to ./Data/Summary.csv\n"
     ]
    }
   ],
   "source": [
    "import pandas as pd\n",
    "import torch\n",
    "from torch.utils.data import DataLoader, Dataset\n",
    "from transformers import AutoTokenizer, AutoModelForSequenceClassification, AdamW\n",
    "from sklearn.metrics import f1_score\n",
    "import os\n",
    "\n",
    "# 사용자 정의 데이터셋 클래스\n",
    "class SimpleDataset(Dataset):\n",
    "    def __init__(self, texts, labels, tokenizer, max_len):\n",
    "        self.texts = texts\n",
    "        self.labels = labels\n",
    "        self.tokenizer = tokenizer\n",
    "        self.max_len = max_len\n",
    "\n",
    "    def __len__(self):\n",
    "        return len(self.texts)\n",
    "\n",
    "    def __getitem__(self, idx):\n",
    "        inputs = self.tokenizer(\n",
    "            self.texts[idx],\n",
    "            add_special_tokens=True,\n",
    "            max_length=self.max_len,\n",
    "            padding=\"max_length\",\n",
    "            truncation=True,\n",
    "            return_tensors=\"pt\",\n",
    "        )\n",
    "        return {\n",
    "            \"input_ids\": inputs[\"input_ids\"].squeeze(0),\n",
    "            \"attention_mask\": inputs[\"attention_mask\"].squeeze(0),\n",
    "            \"label\": torch.tensor(self.labels[idx], dtype=torch.long),\n",
    "        }\n",
    "\n",
    "# 경로 설정\n",
    "train_dir = \"./Data/None\"\n",
    "test_file = \"./Data/Test.csv\"\n",
    "summary_file = \"./Data/Summary.csv\"\n",
    "\n",
    "# 모델 및 토크나이저 초기화\n",
    "tokenizer = AutoTokenizer.from_pretrained(\"bert-base-uncased\")\n",
    "model = AutoModelForSequenceClassification.from_pretrained(\"bert-base-uncased\", num_labels=7)\n",
    "device = torch.device(\"cpu\")\n",
    "model.to(device)\n",
    "\n",
    "# 학습 및 평가 결과 저장\n",
    "results = []\n",
    "\n",
    "# 테스트 데이터 준비\n",
    "test_data = pd.read_csv(test_file)\n",
    "\n",
    "# `document` 열 문자열로 변환 및 결측치 처리\n",
    "test_data[\"document\"] = test_data[\"document\"].astype(str).fillna(\"\")\n",
    "\n",
    "test_texts = test_data[\"document\"].tolist()\n",
    "test_labels = test_data[\"label\"].tolist()  # 'label' 열 사용\n",
    "test_dataset = SimpleDataset(test_texts, test_labels, tokenizer, max_len=128)\n",
    "test_loader = DataLoader(test_dataset, batch_size=32, shuffle=False)\n",
    "\n",
    "# 학습 루프\n",
    "for train_file in sorted(os.listdir(train_dir)):\n",
    "    if train_file.endswith(\".csv\"):\n",
    "        train_data = pd.read_csv(os.path.join(train_dir, train_file))\n",
    "        \n",
    "        # `document` 열 문자열로 변환 및 결측치 처리\n",
    "        train_data[\"document\"] = train_data[\"document\"].astype(str).fillna(\"\")\n",
    "\n",
    "        train_texts = train_data[\"document\"].tolist()\n",
    "        train_labels = train_data[\"label\"].tolist()  # 'label' 열 사용\n",
    "\n",
    "        train_dataset = SimpleDataset(train_texts, train_labels, tokenizer, max_len=128)\n",
    "        train_loader = DataLoader(train_dataset, batch_size=32, shuffle=True)\n",
    "\n",
    "        # 옵티마이저 설정\n",
    "        optimizer = AdamW(model.parameters(), lr=5e-5)\n",
    "\n",
    "        # 학습\n",
    "        model.train()\n",
    "        for epoch in range(3):  # 3 에포크\n",
    "            total_loss = 0\n",
    "            for batch in train_loader:\n",
    "                input_ids = batch[\"input_ids\"].to(device)\n",
    "                attention_mask = batch[\"attention_mask\"].to(device)\n",
    "                labels = batch[\"label\"].to(device)\n",
    "\n",
    "                optimizer.zero_grad()\n",
    "                outputs = model(input_ids, attention_mask=attention_mask, labels=labels)\n",
    "                loss = outputs.loss\n",
    "                loss.backward()\n",
    "                optimizer.step()\n",
    "\n",
    "                total_loss += loss.item()\n",
    "\n",
    "            print(f\"{train_file} - Epoch {epoch + 1} - Loss: {total_loss:.4f}\")\n",
    "\n",
    "        # 평가\n",
    "        model.eval()\n",
    "        all_labels = []\n",
    "        all_preds = []\n",
    "        with torch.no_grad():\n",
    "            for batch in test_loader:\n",
    "                input_ids = batch[\"input_ids\"].to(device)\n",
    "                attention_mask = batch[\"attention_mask\"].to(device)\n",
    "                labels = batch[\"label\"].to(device)\n",
    "\n",
    "                outputs = model(input_ids, attention_mask=attention_mask)\n",
    "                preds = torch.argmax(outputs.logits, axis=1).cpu().numpy()\n",
    "                all_preds.extend(preds)\n",
    "                all_labels.extend(labels.cpu().numpy())\n",
    "\n",
    "        f1_micro = f1_score(all_labels, all_preds, average=\"micro\")\n",
    "        f1_macro = f1_score(all_labels, all_preds, average=\"macro\")\n",
    "        print(f\"Test Results for {train_file}: F1 Micro = {f1_micro:.4f}, F1 Macro = {f1_macro:.4f}\")\n",
    "        results.append({\"File\": train_file, \"F1 Micro\": f1_micro, \"F1 Macro\": f1_macro})\n",
    "\n",
    "# 결과 저장\n",
    "if os.path.exists(summary_file):\n",
    "    # 기존 파일 불러오기\n",
    "    existing_df = pd.read_csv(summary_file)\n",
    "    # 기존 데이터에 새 결과 추가\n",
    "    results_df = pd.concat([existing_df, pd.DataFrame(results)], ignore_index=True)\n",
    "else:\n",
    "    # 기존 파일이 없으면 새 DataFrame 생성\n",
    "    results_df = pd.DataFrame(results)\n",
    "\n",
    "# 업데이트된 결과 저장\n",
    "results_df.to_csv(summary_file, index=False)\n",
    "print(f\"Summary saved to {summary_file}\")\n"
   ]
  },
  {
   "cell_type": "code",
   "execution_count": null,
   "id": "deaeeebf-05b8-4675-b10a-82a9da72667d",
   "metadata": {},
   "outputs": [],
   "source": []
  }
 ],
 "metadata": {
  "kernelspec": {
   "display_name": "Python 3 (ipykernel)",
   "language": "python",
   "name": "python3"
  },
  "language_info": {
   "codemirror_mode": {
    "name": "ipython",
    "version": 3
   },
   "file_extension": ".py",
   "mimetype": "text/x-python",
   "name": "python",
   "nbconvert_exporter": "python",
   "pygments_lexer": "ipython3",
   "version": "3.9.20"
  }
 },
 "nbformat": 4,
 "nbformat_minor": 5
}
