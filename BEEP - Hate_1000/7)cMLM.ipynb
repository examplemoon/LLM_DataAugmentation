{
 "cells": [
  {
   "cell_type": "code",
   "execution_count": 1,
   "id": "1490171f-ff8f-4450-8aac-936bb3ed76fb",
   "metadata": {},
   "outputs": [
    {
     "data": {
      "text/html": [
       "\n",
       "    <div>\n",
       "      \n",
       "      <progress value='117' max='117' style='width:300px; height:20px; vertical-align: middle;'></progress>\n",
       "      [117/117 00:05, Epoch 3/3]\n",
       "    </div>\n",
       "    <table border=\"1\" class=\"dataframe\">\n",
       "  <thead>\n",
       " <tr style=\"text-align: left;\">\n",
       "      <th>Step</th>\n",
       "      <th>Training Loss</th>\n",
       "    </tr>\n",
       "  </thead>\n",
       "  <tbody>\n",
       "  </tbody>\n",
       "</table><p>"
      ],
      "text/plain": [
       "<IPython.core.display.HTML object>"
      ]
     },
     "metadata": {},
     "output_type": "display_data"
    },
    {
     "data": {
      "text/html": [
       "\n",
       "    <div>\n",
       "      \n",
       "      <progress value='174' max='174' style='width:300px; height:20px; vertical-align: middle;'></progress>\n",
       "      [174/174 00:07, Epoch 3/3]\n",
       "    </div>\n",
       "    <table border=\"1\" class=\"dataframe\">\n",
       "  <thead>\n",
       " <tr style=\"text-align: left;\">\n",
       "      <th>Step</th>\n",
       "      <th>Training Loss</th>\n",
       "    </tr>\n",
       "  </thead>\n",
       "  <tbody>\n",
       "  </tbody>\n",
       "</table><p>"
      ],
      "text/plain": [
       "<IPython.core.display.HTML object>"
      ]
     },
     "metadata": {},
     "output_type": "display_data"
    },
    {
     "data": {
      "text/html": [
       "\n",
       "    <div>\n",
       "      \n",
       "      <progress value='87' max='87' style='width:300px; height:20px; vertical-align: middle;'></progress>\n",
       "      [87/87 00:03, Epoch 3/3]\n",
       "    </div>\n",
       "    <table border=\"1\" class=\"dataframe\">\n",
       "  <thead>\n",
       " <tr style=\"text-align: left;\">\n",
       "      <th>Step</th>\n",
       "      <th>Training Loss</th>\n",
       "    </tr>\n",
       "  </thead>\n",
       "  <tbody>\n",
       "  </tbody>\n",
       "</table><p>"
      ],
      "text/plain": [
       "<IPython.core.display.HTML object>"
      ]
     },
     "metadata": {},
     "output_type": "display_data"
    },
    {
     "name": "stdout",
     "output_type": "stream",
     "text": [
      "Processed None_2.csv: Original=1000, Augmented=1000\n"
     ]
    },
    {
     "data": {
      "text/html": [
       "\n",
       "    <div>\n",
       "      \n",
       "      <progress value='171' max='171' style='width:300px; height:20px; vertical-align: middle;'></progress>\n",
       "      [171/171 00:06, Epoch 3/3]\n",
       "    </div>\n",
       "    <table border=\"1\" class=\"dataframe\">\n",
       "  <thead>\n",
       " <tr style=\"text-align: left;\">\n",
       "      <th>Step</th>\n",
       "      <th>Training Loss</th>\n",
       "    </tr>\n",
       "  </thead>\n",
       "  <tbody>\n",
       "  </tbody>\n",
       "</table><p>"
      ],
      "text/plain": [
       "<IPython.core.display.HTML object>"
      ]
     },
     "metadata": {},
     "output_type": "display_data"
    },
    {
     "data": {
      "text/html": [
       "\n",
       "    <div>\n",
       "      \n",
       "      <progress value='96' max='96' style='width:300px; height:20px; vertical-align: middle;'></progress>\n",
       "      [96/96 00:04, Epoch 3/3]\n",
       "    </div>\n",
       "    <table border=\"1\" class=\"dataframe\">\n",
       "  <thead>\n",
       " <tr style=\"text-align: left;\">\n",
       "      <th>Step</th>\n",
       "      <th>Training Loss</th>\n",
       "    </tr>\n",
       "  </thead>\n",
       "  <tbody>\n",
       "  </tbody>\n",
       "</table><p>"
      ],
      "text/plain": [
       "<IPython.core.display.HTML object>"
      ]
     },
     "metadata": {},
     "output_type": "display_data"
    },
    {
     "data": {
      "text/html": [
       "\n",
       "    <div>\n",
       "      \n",
       "      <progress value='114' max='114' style='width:300px; height:20px; vertical-align: middle;'></progress>\n",
       "      [114/114 00:04, Epoch 3/3]\n",
       "    </div>\n",
       "    <table border=\"1\" class=\"dataframe\">\n",
       "  <thead>\n",
       " <tr style=\"text-align: left;\">\n",
       "      <th>Step</th>\n",
       "      <th>Training Loss</th>\n",
       "    </tr>\n",
       "  </thead>\n",
       "  <tbody>\n",
       "  </tbody>\n",
       "</table><p>"
      ],
      "text/plain": [
       "<IPython.core.display.HTML object>"
      ]
     },
     "metadata": {},
     "output_type": "display_data"
    },
    {
     "name": "stdout",
     "output_type": "stream",
     "text": [
      "Processed None_4.csv: Original=1000, Augmented=1000\n"
     ]
    },
    {
     "data": {
      "text/html": [
       "\n",
       "    <div>\n",
       "      \n",
       "      <progress value='111' max='111' style='width:300px; height:20px; vertical-align: middle;'></progress>\n",
       "      [111/111 00:04, Epoch 3/3]\n",
       "    </div>\n",
       "    <table border=\"1\" class=\"dataframe\">\n",
       "  <thead>\n",
       " <tr style=\"text-align: left;\">\n",
       "      <th>Step</th>\n",
       "      <th>Training Loss</th>\n",
       "    </tr>\n",
       "  </thead>\n",
       "  <tbody>\n",
       "  </tbody>\n",
       "</table><p>"
      ],
      "text/plain": [
       "<IPython.core.display.HTML object>"
      ]
     },
     "metadata": {},
     "output_type": "display_data"
    },
    {
     "data": {
      "text/html": [
       "\n",
       "    <div>\n",
       "      \n",
       "      <progress value='177' max='177' style='width:300px; height:20px; vertical-align: middle;'></progress>\n",
       "      [177/177 00:06, Epoch 3/3]\n",
       "    </div>\n",
       "    <table border=\"1\" class=\"dataframe\">\n",
       "  <thead>\n",
       " <tr style=\"text-align: left;\">\n",
       "      <th>Step</th>\n",
       "      <th>Training Loss</th>\n",
       "    </tr>\n",
       "  </thead>\n",
       "  <tbody>\n",
       "  </tbody>\n",
       "</table><p>"
      ],
      "text/plain": [
       "<IPython.core.display.HTML object>"
      ]
     },
     "metadata": {},
     "output_type": "display_data"
    },
    {
     "data": {
      "text/html": [
       "\n",
       "    <div>\n",
       "      \n",
       "      <progress value='90' max='90' style='width:300px; height:20px; vertical-align: middle;'></progress>\n",
       "      [90/90 00:03, Epoch 3/3]\n",
       "    </div>\n",
       "    <table border=\"1\" class=\"dataframe\">\n",
       "  <thead>\n",
       " <tr style=\"text-align: left;\">\n",
       "      <th>Step</th>\n",
       "      <th>Training Loss</th>\n",
       "    </tr>\n",
       "  </thead>\n",
       "  <tbody>\n",
       "  </tbody>\n",
       "</table><p>"
      ],
      "text/plain": [
       "<IPython.core.display.HTML object>"
      ]
     },
     "metadata": {},
     "output_type": "display_data"
    },
    {
     "name": "stdout",
     "output_type": "stream",
     "text": [
      "Processed None_5.csv: Original=1000, Augmented=1000\n"
     ]
    },
    {
     "data": {
      "text/html": [
       "\n",
       "    <div>\n",
       "      \n",
       "      <progress value='93' max='93' style='width:300px; height:20px; vertical-align: middle;'></progress>\n",
       "      [93/93 00:03, Epoch 3/3]\n",
       "    </div>\n",
       "    <table border=\"1\" class=\"dataframe\">\n",
       "  <thead>\n",
       " <tr style=\"text-align: left;\">\n",
       "      <th>Step</th>\n",
       "      <th>Training Loss</th>\n",
       "    </tr>\n",
       "  </thead>\n",
       "  <tbody>\n",
       "  </tbody>\n",
       "</table><p>"
      ],
      "text/plain": [
       "<IPython.core.display.HTML object>"
      ]
     },
     "metadata": {},
     "output_type": "display_data"
    },
    {
     "data": {
      "text/html": [
       "\n",
       "    <div>\n",
       "      \n",
       "      <progress value='168' max='168' style='width:300px; height:20px; vertical-align: middle;'></progress>\n",
       "      [168/168 00:06, Epoch 3/3]\n",
       "    </div>\n",
       "    <table border=\"1\" class=\"dataframe\">\n",
       "  <thead>\n",
       " <tr style=\"text-align: left;\">\n",
       "      <th>Step</th>\n",
       "      <th>Training Loss</th>\n",
       "    </tr>\n",
       "  </thead>\n",
       "  <tbody>\n",
       "  </tbody>\n",
       "</table><p>"
      ],
      "text/plain": [
       "<IPython.core.display.HTML object>"
      ]
     },
     "metadata": {},
     "output_type": "display_data"
    },
    {
     "data": {
      "text/html": [
       "\n",
       "    <div>\n",
       "      \n",
       "      <progress value='120' max='120' style='width:300px; height:20px; vertical-align: middle;'></progress>\n",
       "      [120/120 00:04, Epoch 3/3]\n",
       "    </div>\n",
       "    <table border=\"1\" class=\"dataframe\">\n",
       "  <thead>\n",
       " <tr style=\"text-align: left;\">\n",
       "      <th>Step</th>\n",
       "      <th>Training Loss</th>\n",
       "    </tr>\n",
       "  </thead>\n",
       "  <tbody>\n",
       "  </tbody>\n",
       "</table><p>"
      ],
      "text/plain": [
       "<IPython.core.display.HTML object>"
      ]
     },
     "metadata": {},
     "output_type": "display_data"
    },
    {
     "name": "stdout",
     "output_type": "stream",
     "text": [
      "Processed None_3.csv: Original=1000, Augmented=1000\n"
     ]
    },
    {
     "data": {
      "text/html": [
       "\n",
       "    <div>\n",
       "      \n",
       "      <progress value='165' max='165' style='width:300px; height:20px; vertical-align: middle;'></progress>\n",
       "      [165/165 00:06, Epoch 3/3]\n",
       "    </div>\n",
       "    <table border=\"1\" class=\"dataframe\">\n",
       "  <thead>\n",
       " <tr style=\"text-align: left;\">\n",
       "      <th>Step</th>\n",
       "      <th>Training Loss</th>\n",
       "    </tr>\n",
       "  </thead>\n",
       "  <tbody>\n",
       "  </tbody>\n",
       "</table><p>"
      ],
      "text/plain": [
       "<IPython.core.display.HTML object>"
      ]
     },
     "metadata": {},
     "output_type": "display_data"
    },
    {
     "data": {
      "text/html": [
       "\n",
       "    <div>\n",
       "      \n",
       "      <progress value='126' max='126' style='width:300px; height:20px; vertical-align: middle;'></progress>\n",
       "      [126/126 00:05, Epoch 3/3]\n",
       "    </div>\n",
       "    <table border=\"1\" class=\"dataframe\">\n",
       "  <thead>\n",
       " <tr style=\"text-align: left;\">\n",
       "      <th>Step</th>\n",
       "      <th>Training Loss</th>\n",
       "    </tr>\n",
       "  </thead>\n",
       "  <tbody>\n",
       "  </tbody>\n",
       "</table><p>"
      ],
      "text/plain": [
       "<IPython.core.display.HTML object>"
      ]
     },
     "metadata": {},
     "output_type": "display_data"
    },
    {
     "data": {
      "text/html": [
       "\n",
       "    <div>\n",
       "      \n",
       "      <progress value='87' max='87' style='width:300px; height:20px; vertical-align: middle;'></progress>\n",
       "      [87/87 00:03, Epoch 3/3]\n",
       "    </div>\n",
       "    <table border=\"1\" class=\"dataframe\">\n",
       "  <thead>\n",
       " <tr style=\"text-align: left;\">\n",
       "      <th>Step</th>\n",
       "      <th>Training Loss</th>\n",
       "    </tr>\n",
       "  </thead>\n",
       "  <tbody>\n",
       "  </tbody>\n",
       "</table><p>"
      ],
      "text/plain": [
       "<IPython.core.display.HTML object>"
      ]
     },
     "metadata": {},
     "output_type": "display_data"
    },
    {
     "name": "stdout",
     "output_type": "stream",
     "text": [
      "Processed None_1.csv: Original=1000, Augmented=1000\n",
      "Class-conditional data augmentation completed and saved to ./Data/cMLM\n"
     ]
    }
   ],
   "source": [
    "from transformers import ElectraForMaskedLM, ElectraTokenizer, Trainer, TrainingArguments, DataCollatorForLanguageModeling\n",
    "import os\n",
    "import random\n",
    "import torch\n",
    "import pandas as pd\n",
    "from datasets import Dataset\n",
    "\n",
    "# 원본 폴더와 타겟 폴더 경로\n",
    "source_folder = \"./Data/None\"\n",
    "target_folder = \"./Data/cMLM\"\n",
    "\n",
    "# KoELECTRA 모델과 토크나이저 로드\n",
    "model_name = \"monologg/koelectra-base-v3-generator\"\n",
    "model = ElectraForMaskedLM.from_pretrained(model_name)\n",
    "tokenizer = ElectraTokenizer.from_pretrained(model_name)\n",
    "\n",
    "# 클래스별 데이터 분리 함수\n",
    "def split_by_class(df, class_column):\n",
    "    classes = df[class_column].unique()\n",
    "    class_datasets = {cls: df[df[class_column] == cls] for cls in classes}\n",
    "    return class_datasets\n",
    "\n",
    "# 미세 조정 함수\n",
    "def fine_tune_model(class_df, tokenizer, model, output_dir, epochs=3):\n",
    "    texts = class_df[\"comments\"].tolist()\n",
    "    tokenized_data = tokenizer(texts, truncation=True, padding=True, max_length=128, return_tensors=\"pt\")\n",
    "    dataset = Dataset.from_dict({\n",
    "        \"input_ids\": tokenized_data[\"input_ids\"],\n",
    "        \"attention_mask\": tokenized_data[\"attention_mask\"]\n",
    "    })\n",
    "\n",
    "    data_collator = DataCollatorForLanguageModeling(\n",
    "        tokenizer=tokenizer,\n",
    "        mlm=True,\n",
    "        mlm_probability=0.15\n",
    "    )\n",
    "\n",
    "    training_args = TrainingArguments(\n",
    "        output_dir=output_dir,\n",
    "        overwrite_output_dir=True,\n",
    "        num_train_epochs=epochs,\n",
    "        per_device_train_batch_size=8,\n",
    "        save_steps=10_000,\n",
    "        save_total_limit=2,\n",
    "        logging_dir=f\"{output_dir}/logs\",\n",
    "        logging_steps=500,\n",
    "    )\n",
    "\n",
    "    trainer = Trainer(\n",
    "        model=model,\n",
    "        args=training_args,\n",
    "        data_collator=data_collator,\n",
    "        train_dataset=dataset\n",
    "    )\n",
    "\n",
    "    trainer.train()\n",
    "    trainer.save_model(output_dir)\n",
    "\n",
    "# 데이터 증강 함수\n",
    "def augment_text(text, model, tokenizer, mask_prob):\n",
    "    tokens = tokenizer.tokenize(text)\n",
    "    num_to_mask = max(1, int(len(tokens) * mask_prob))\n",
    "    mask_indices = random.sample(range(len(tokens)), num_to_mask)\n",
    "\n",
    "    # 원본 토큰 복사 및 마스크 처리\n",
    "    original_tokens = tokens.copy()\n",
    "    for idx in mask_indices:\n",
    "        tokens[idx] = tokenizer.mask_token\n",
    "\n",
    "    # 토큰을 입력으로 변환\n",
    "    inputs = tokenizer.convert_tokens_to_ids(tokens)\n",
    "    inputs = torch.tensor([inputs])\n",
    "\n",
    "    # 모델 예측 수행\n",
    "    with torch.no_grad():\n",
    "        outputs = model(inputs)\n",
    "        predictions = torch.argmax(outputs.logits, dim=-1)\n",
    "\n",
    "    # 마스크된 위치만 대체\n",
    "    for idx in mask_indices:\n",
    "        original_tokens[idx] = tokenizer.decode([predictions[0][idx].item()], skip_special_tokens=True)\n",
    "\n",
    "    # 디코딩하여 증강 텍스트 생성\n",
    "    augmented_text = tokenizer.convert_tokens_to_string(original_tokens)\n",
    "    return augmented_text.strip()\n",
    "\n",
    "# 클래스 조건부 데이터 증강 및 저장 함수\n",
    "def augment_and_save_by_class(source_folder, target_folder, class_column, mask_prob=0.15, augment_multiplier=1, fine_tune_epochs=3):\n",
    "    if not os.path.exists(target_folder):\n",
    "        os.makedirs(target_folder)\n",
    "\n",
    "    for file_name in os.listdir(source_folder):\n",
    "        if file_name.startswith(\"None_\"):\n",
    "            file_number = file_name.split(\"_\")[1]  # 파일 이름에서 번호 추출\n",
    "            source_path = os.path.join(source_folder, file_name)\n",
    "\n",
    "            # 파일 로드\n",
    "            df = pd.read_csv(source_path, encoding=\"utf-8\")\n",
    "\n",
    "            # 클래스별 데이터 분리\n",
    "            class_datasets = split_by_class(df, class_column)\n",
    "\n",
    "            # 각 클래스별 미세 조정 및 증강\n",
    "            augmented_dfs = []\n",
    "            for cls, class_df in class_datasets.items():\n",
    "                if \"comments\" in class_df.columns:\n",
    "                    output_dir = f\"./fine_tuned_models/{cls}\"\n",
    "                    fine_tune_model(class_df, tokenizer, model, output_dir, epochs=fine_tune_epochs)\n",
    "\n",
    "                    # 미세 조정된 모델 로드\n",
    "                    fine_tuned_model = ElectraForMaskedLM.from_pretrained(output_dir)\n",
    "\n",
    "                    augmented_comments = []\n",
    "                    for _ in range(augment_multiplier):\n",
    "                        augmented_comments.extend(\n",
    "                            class_df[\"comments\"].apply(\n",
    "                                lambda x: augment_text(x, fine_tuned_model, tokenizer, mask_prob) if isinstance(x, str) else x\n",
    "                            )\n",
    "                        )\n",
    "                    augmented_df = class_df.copy()\n",
    "                    augmented_df = augmented_df.loc[augmented_df.index.repeat(augment_multiplier)]\n",
    "                    augmented_df[\"comments_ag\"] = augmented_comments\n",
    "                    augmented_dfs.append(augmented_df)\n",
    "\n",
    "            # 증강된 데이터 합치기\n",
    "            all_augmented_df = pd.concat(augmented_dfs, ignore_index=True)\n",
    "            final_df = pd.concat([df, all_augmented_df], ignore_index=True)\n",
    "\n",
    "            # 저장\n",
    "            target_file_name = f\"cMLM_{file_number}\"\n",
    "            target_path = os.path.join(target_folder, target_file_name)\n",
    "            final_df.to_csv(target_path, index=False, encoding=\"utf-8-sig\")\n",
    "\n",
    "            # 로그 출력\n",
    "            print(f\"Processed {file_name}: Original={len(df)}, Augmented={len(all_augmented_df)}\")\n",
    "\n",
    "augment_and_save_by_class(source_folder, target_folder, class_column=\"hate\", mask_prob=0.1, augment_multiplier=1, fine_tune_epochs=3)\n",
    "print(f\"Class-conditional data augmentation completed and saved to {target_folder}\")\n"
   ]
  },
  {
   "cell_type": "code",
   "execution_count": 2,
   "id": "7ed6fd15-a971-4662-9aae-26498dbabe72",
   "metadata": {},
   "outputs": [
    {
     "name": "stderr",
     "output_type": "stream",
     "text": [
      "Some weights of BertForSequenceClassification were not initialized from the model checkpoint at bert-base-uncased and are newly initialized: ['classifier.bias', 'classifier.weight']\n",
      "You should probably TRAIN this model on a down-stream task to be able to use it for predictions and inference.\n",
      "/usr/local/lib/python3.9/dist-packages/transformers/optimization.py:591: FutureWarning: This implementation of AdamW is deprecated and will be removed in a future version. Use the PyTorch implementation torch.optim.AdamW instead, or set `no_deprecation_warning=True` to disable this warning\n",
      "  warnings.warn(\n"
     ]
    },
    {
     "name": "stdout",
     "output_type": "stream",
     "text": [
      "cMLM_1.csv - Epoch 1 - Loss: 67.2733\n",
      "cMLM_1.csv - Epoch 2 - Loss: 65.4214\n",
      "cMLM_1.csv - Epoch 3 - Loss: 63.0245\n",
      "Test Results for cMLM_1.csv: F1 Micro = 0.3694, F1 Macro = 0.2579\n"
     ]
    },
    {
     "name": "stderr",
     "output_type": "stream",
     "text": [
      "/usr/local/lib/python3.9/dist-packages/transformers/optimization.py:591: FutureWarning: This implementation of AdamW is deprecated and will be removed in a future version. Use the PyTorch implementation torch.optim.AdamW instead, or set `no_deprecation_warning=True` to disable this warning\n",
      "  warnings.warn(\n"
     ]
    },
    {
     "name": "stdout",
     "output_type": "stream",
     "text": [
      "cMLM_2.csv - Epoch 1 - Loss: 65.1144\n",
      "cMLM_2.csv - Epoch 2 - Loss: 60.9672\n",
      "cMLM_2.csv - Epoch 3 - Loss: 55.0326\n",
      "Test Results for cMLM_2.csv: F1 Micro = 0.3843, F1 Macro = 0.3094\n"
     ]
    },
    {
     "name": "stderr",
     "output_type": "stream",
     "text": [
      "/usr/local/lib/python3.9/dist-packages/transformers/optimization.py:591: FutureWarning: This implementation of AdamW is deprecated and will be removed in a future version. Use the PyTorch implementation torch.optim.AdamW instead, or set `no_deprecation_warning=True` to disable this warning\n",
      "  warnings.warn(\n"
     ]
    },
    {
     "name": "stdout",
     "output_type": "stream",
     "text": [
      "cMLM_3.csv - Epoch 1 - Loss: 63.9233\n",
      "cMLM_3.csv - Epoch 2 - Loss: 55.3148\n",
      "cMLM_3.csv - Epoch 3 - Loss: 46.7814\n",
      "Test Results for cMLM_3.csv: F1 Micro = 0.3949, F1 Macro = 0.3455\n"
     ]
    },
    {
     "name": "stderr",
     "output_type": "stream",
     "text": [
      "/usr/local/lib/python3.9/dist-packages/transformers/optimization.py:591: FutureWarning: This implementation of AdamW is deprecated and will be removed in a future version. Use the PyTorch implementation torch.optim.AdamW instead, or set `no_deprecation_warning=True` to disable this warning\n",
      "  warnings.warn(\n"
     ]
    },
    {
     "name": "stdout",
     "output_type": "stream",
     "text": [
      "cMLM_4.csv - Epoch 1 - Loss: 60.7660\n",
      "cMLM_4.csv - Epoch 2 - Loss: 48.4462\n",
      "cMLM_4.csv - Epoch 3 - Loss: 32.4035\n",
      "Test Results for cMLM_4.csv: F1 Micro = 0.4183, F1 Macro = 0.4045\n"
     ]
    },
    {
     "name": "stderr",
     "output_type": "stream",
     "text": [
      "/usr/local/lib/python3.9/dist-packages/transformers/optimization.py:591: FutureWarning: This implementation of AdamW is deprecated and will be removed in a future version. Use the PyTorch implementation torch.optim.AdamW instead, or set `no_deprecation_warning=True` to disable this warning\n",
      "  warnings.warn(\n"
     ]
    },
    {
     "name": "stdout",
     "output_type": "stream",
     "text": [
      "cMLM_5.csv - Epoch 1 - Loss: 60.4952\n",
      "cMLM_5.csv - Epoch 2 - Loss: 42.7284\n",
      "cMLM_5.csv - Epoch 3 - Loss: 25.4380\n",
      "Test Results for cMLM_5.csv: F1 Micro = 0.4331, F1 Macro = 0.4276\n",
      "Summary updated and saved to ./Data/Summary.csv\n"
     ]
    }
   ],
   "source": [
    "import pandas as pd\n",
    "import torch\n",
    "from torch.utils.data import DataLoader, Dataset\n",
    "from transformers import AutoTokenizer, AutoModelForSequenceClassification, AdamW\n",
    "from sklearn.metrics import f1_score\n",
    "import os\n",
    "\n",
    "# 사용자 정의 데이터셋 클래스\n",
    "class SimpleDataset(Dataset):\n",
    "    def __init__(self, texts, labels, tokenizer, max_len):\n",
    "        self.texts = texts\n",
    "        self.labels = labels\n",
    "        self.tokenizer = tokenizer\n",
    "        self.max_len = max_len\n",
    "\n",
    "    def __len__(self):\n",
    "        return len(self.texts)\n",
    "\n",
    "    def __getitem__(self, idx):\n",
    "        inputs = self.tokenizer(\n",
    "            self.texts[idx],\n",
    "            add_special_tokens=True,\n",
    "            max_length=self.max_len,\n",
    "            padding=\"max_length\",\n",
    "            truncation=True,\n",
    "            return_tensors=\"pt\",\n",
    "        )\n",
    "        return {\n",
    "            \"input_ids\": inputs[\"input_ids\"].squeeze(0),\n",
    "            \"attention_mask\": inputs[\"attention_mask\"].squeeze(0),\n",
    "            \"label\": torch.tensor(self.labels[idx], dtype=torch.long),\n",
    "        }\n",
    "\n",
    "# 경로 설정\n",
    "train_dir = \"./Data/cMLM\"\n",
    "test_file = \"./Data/Test.csv\"\n",
    "summary_file = \"./Data/Summary.csv\"\n",
    "\n",
    "# 모델 및 토크나이저 초기화\n",
    "tokenizer = AutoTokenizer.from_pretrained(\"bert-base-uncased\")\n",
    "model = AutoModelForSequenceClassification.from_pretrained(\"bert-base-uncased\", num_labels=3)  # 3개 클래스\n",
    "device = torch.device(\"cuda\" if torch.cuda.is_available() else \"cpu\")\n",
    "model.to(device)\n",
    "\n",
    "# 학습 및 평가 결과 저장\n",
    "results = []\n",
    "\n",
    "# 테스트 데이터 준비\n",
    "test_data = pd.read_csv(test_file)\n",
    "test_texts = test_data[\"comments\"].tolist()\n",
    "test_labels = test_data[\"hate\"].map({\"none\": 0, \"hate\": 1, \"offensive\": 2}).tolist()\n",
    "test_dataset = SimpleDataset(test_texts, test_labels, tokenizer, max_len=128)\n",
    "test_loader = DataLoader(test_dataset, batch_size=32, shuffle=False)\n",
    "\n",
    "# 학습 루프\n",
    "for train_file in sorted(os.listdir(train_dir)):\n",
    "    if train_file.endswith(\".csv\"):\n",
    "        train_data = pd.read_csv(os.path.join(train_dir, train_file))\n",
    "        train_texts = train_data[\"comments\"].tolist()\n",
    "        train_labels = train_data[\"hate\"].map({\"none\": 0, \"hate\": 1, \"offensive\": 2}).tolist()\n",
    "\n",
    "        train_dataset = SimpleDataset(train_texts, train_labels, tokenizer, max_len=128)\n",
    "        train_loader = DataLoader(train_dataset, batch_size=32, shuffle=True)\n",
    "\n",
    "        # 옵티마이저 설정\n",
    "        optimizer = AdamW(model.parameters(), lr=5e-5)\n",
    "\n",
    "        # 학습\n",
    "        model.train()\n",
    "        for epoch in range(3):  # 3 에포크\n",
    "            total_loss = 0\n",
    "            for batch in train_loader:\n",
    "                input_ids = batch[\"input_ids\"].to(device)\n",
    "                attention_mask = batch[\"attention_mask\"].to(device)\n",
    "                labels = batch[\"label\"].to(device)\n",
    "\n",
    "                optimizer.zero_grad()\n",
    "                outputs = model(input_ids, attention_mask=attention_mask, labels=labels)\n",
    "                loss = outputs.loss\n",
    "                loss.backward()\n",
    "                optimizer.step()\n",
    "\n",
    "                total_loss += loss.item()\n",
    "\n",
    "            print(f\"{train_file} - Epoch {epoch + 1} - Loss: {total_loss:.4f}\")\n",
    "\n",
    "        # 평가\n",
    "        model.eval()\n",
    "        all_labels = []\n",
    "        all_preds = []\n",
    "        with torch.no_grad():\n",
    "            for batch in test_loader:\n",
    "                input_ids = batch[\"input_ids\"].to(device)\n",
    "                attention_mask = batch[\"attention_mask\"].to(device)\n",
    "                labels = batch[\"label\"].to(device)\n",
    "\n",
    "                outputs = model(input_ids, attention_mask=attention_mask)\n",
    "                preds = torch.argmax(outputs.logits, axis=1).cpu().numpy()\n",
    "                all_preds.extend(preds)\n",
    "                all_labels.extend(labels.cpu().numpy())\n",
    "\n",
    "        f1_micro = f1_score(all_labels, all_preds, average=\"micro\")\n",
    "        f1_macro = f1_score(all_labels, all_preds, average=\"macro\")\n",
    "        print(f\"Test Results for {train_file}: F1 Micro = {f1_micro:.4f}, F1 Macro = {f1_macro:.4f}\")\n",
    "        results.append({\"File\": train_file, \"F1 Micro\": f1_micro, \"F1 Macro\": f1_macro})\n",
    "\n",
    "# 결과 저장 또는 추가\n",
    "if os.path.exists(summary_file):\n",
    "    # 기존 파일이 있는 경우: 기존 데이터를 읽어서 새로운 데이터를 추가\n",
    "    existing_results = pd.read_csv(summary_file)\n",
    "    results_df = pd.concat([existing_results, pd.DataFrame(results)], ignore_index=True)\n",
    "else:\n",
    "    # 기존 파일이 없는 경우: 새로운 데이터만 저장\n",
    "    results_df = pd.DataFrame(results)\n",
    "\n",
    "results_df.to_csv(summary_file, index=False)\n",
    "print(f\"Summary updated and saved to {summary_file}\")\n"
   ]
  },
  {
   "cell_type": "code",
   "execution_count": null,
   "id": "e5153303-d49d-4f56-b795-73242471b615",
   "metadata": {},
   "outputs": [],
   "source": []
  }
 ],
 "metadata": {
  "kernelspec": {
   "display_name": "Python 3 (ipykernel)",
   "language": "python",
   "name": "python3"
  },
  "language_info": {
   "codemirror_mode": {
    "name": "ipython",
    "version": 3
   },
   "file_extension": ".py",
   "mimetype": "text/x-python",
   "name": "python",
   "nbconvert_exporter": "python",
   "pygments_lexer": "ipython3",
   "version": "3.9.20"
  }
 },
 "nbformat": 4,
 "nbformat_minor": 5
}
