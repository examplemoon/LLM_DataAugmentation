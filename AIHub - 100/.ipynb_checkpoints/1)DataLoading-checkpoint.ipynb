{
 "cells": [
  {
   "cell_type": "code",
   "execution_count": 1,
   "id": "9c3f1d92-4df1-41f8-ad8b-f2ee2fad3fa4",
   "metadata": {},
   "outputs": [
    {
     "name": "stderr",
     "output_type": "stream",
     "text": [
      "Cloning into 'nsmc'...\n",
      "Updating files: 100% (14737/14737), done.\n"
     ]
    },
    {
     "name": "stdout",
     "output_type": "stream",
     "text": [
      "Train 데이터가 ./Data/Train.csv에 저장되었습니다.\n",
      "Test 데이터가 ./Data/Test.csv에 저장되었습니다.\n"
     ]
    }
   ],
   "source": [
    "import os\n",
    "import pandas as pd\n",
    "import subprocess\n",
    "\n",
    "# 데이터 저장 경로 설정\n",
    "data_dir = \"./Data\"\n",
    "os.makedirs(data_dir, exist_ok=True)\n",
    "\n",
    "# GitHub 저장소에서 데이터 다운로드\n",
    "repo_url = \"https://github.com/e9t/nsmc.git\"\n",
    "subprocess.run([\"git\", \"clone\", repo_url])\n",
    "\n",
    "# 파일 경로 설정\n",
    "train_path = \"./nsmc/ratings_train.txt\"\n",
    "test_path = \"./nsmc/ratings_test.txt\"\n",
    "train_save_path = os.path.join(data_dir, \"Train.csv\")\n",
    "test_save_path = os.path.join(data_dir, \"Test.csv\")\n",
    "\n",
    "# 데이터 로드\n",
    "train_data = pd.read_csv(train_path, sep='\\t', encoding='utf-8')\n",
    "test_data = pd.read_csv(test_path, sep='\\t', encoding='utf-8')\n",
    "\n",
    "# CSV 파일로 저장\n",
    "train_data.to_csv(train_save_path, index=False, encoding='utf-8')\n",
    "test_data.to_csv(test_save_path, index=False, encoding='utf-8')\n",
    "\n",
    "print(f\"Train 데이터가 {train_save_path}에 저장되었습니다.\")\n",
    "print(f\"Test 데이터가 {test_save_path}에 저장되었습니다.\")\n"
   ]
  },
  {
   "cell_type": "code",
   "execution_count": 2,
   "id": "58a2363e-866c-4ac0-a9b0-0e1c66b3f117",
   "metadata": {},
   "outputs": [
    {
     "name": "stdout",
     "output_type": "stream",
     "text": [
      "Train 데이터 label 분포:\n",
      "label\n",
      "0    75173\n",
      "1    74827\n",
      "Name: count, dtype: int64\n",
      "\n",
      "Test 데이터 label 분포:\n",
      "label\n",
      "1    25173\n",
      "0    24827\n",
      "Name: count, dtype: int64\n",
      "\n",
      "Train 데이터 label 비율:\n",
      "label\n",
      "0    50.115333\n",
      "1    49.884667\n",
      "Name: count, dtype: float64\n",
      "\n",
      "Test 데이터 label 비율:\n",
      "label\n",
      "1    50.346\n",
      "0    49.654\n",
      "Name: count, dtype: float64\n"
     ]
    }
   ],
   "source": [
    "import pandas as pd\n",
    "\n",
    "# 데이터 로드\n",
    "train_data = pd.read_csv('./Data/Train.csv', encoding='utf-8')\n",
    "test_data = pd.read_csv('./Data/Test.csv', encoding='utf-8')\n",
    "\n",
    "# Train 데이터 label 분포 출력\n",
    "print(\"Train 데이터 label 분포:\")\n",
    "train_label_counts = train_data['label'].value_counts()\n",
    "print(train_label_counts)\n",
    "\n",
    "# Test 데이터 label 분포 출력\n",
    "print(\"\\nTest 데이터 label 분포:\")\n",
    "test_label_counts = test_data['label'].value_counts()\n",
    "print(test_label_counts)\n",
    "\n",
    "# 비율 계산 및 출력\n",
    "print(\"\\nTrain 데이터 label 비율:\")\n",
    "print(train_label_counts / len(train_data) * 100)\n",
    "\n",
    "print(\"\\nTest 데이터 label 비율:\")\n",
    "print(test_label_counts / len(test_data) * 100)\n"
   ]
  },
  {
   "cell_type": "code",
   "execution_count": null,
   "id": "a8ad99e7-1e0a-4de1-adeb-04e5e777c890",
   "metadata": {},
   "outputs": [],
   "source": []
  }
 ],
 "metadata": {
  "kernelspec": {
   "display_name": "Python 3 (ipykernel)",
   "language": "python",
   "name": "python3"
  },
  "language_info": {
   "codemirror_mode": {
    "name": "ipython",
    "version": 3
   },
   "file_extension": ".py",
   "mimetype": "text/x-python",
   "name": "python",
   "nbconvert_exporter": "python",
   "pygments_lexer": "ipython3",
   "version": "3.9.20"
  }
 },
 "nbformat": 4,
 "nbformat_minor": 5
}
