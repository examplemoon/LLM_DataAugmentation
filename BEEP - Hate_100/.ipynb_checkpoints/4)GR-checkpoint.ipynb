{
 "cells": [
  {
   "cell_type": "code",
   "execution_count": 17,
   "id": "6dca4bb3-1fc6-4424-b5eb-a2a0a12262d7",
   "metadata": {},
   "outputs": [
    {
     "name": "stdout",
     "output_type": "stream",
     "text": [
      "안녕하세요, 저는 링크브릭스 호라이즌 AI입니다. 저는 사용자의 삶을 편리하게 만들고 지원해주는 인공지능 어시스턴트입니다. 어떤 도움이 필요하십니까?\n"
     ]
    }
   ],
   "source": [
    "import ollama\n",
    "response = ollama.chat(model='benedict/linkbricks-llama3.1-korean:70b', messages=[\n",
    "  {\n",
    "    'role': 'user',\n",
    "    'content': '안녕',\n",
    "  },\n",
    "])\n",
    "print(response['message']['content'])"
   ]
  },
  {
   "cell_type": "code",
   "execution_count": null,
   "id": "cca8927b-b4ca-4860-b0cf-b89cce4ffa29",
   "metadata": {
    "scrolled": true
   },
   "outputs": [
    {
     "name": "stdout",
     "output_type": "stream",
     "text": [
      "파일 None_1.csv에서 데이터를 불러왔습니다.\n",
      "현재 None_1.csv 분포:\n",
      "hate\n",
      "none         44\n",
      "offensive    31\n",
      "hate         25\n",
      "Name: count, dtype: int64\n",
      "offensive 클래스가 13개 부족합니다. 생성 중...\n",
      "생성된 문장 저장 완료:  이거 좀 봐라, 왜 저런 애를 뽑았냐고? \n",
      "생성된 문장 저장 완료: 이 영화는 너무 지루하고 재미없어서 관객들이 전혀 공감할 수 없게 만들어진 영화다.\n",
      "생성된 문장 저장 완료:  요즘에 나온 대부분의 가수들 노래는 그냥 비슷비슷하고 매력이 없다. \n"
     ]
    }
   ],
   "source": [
    "import pandas as pd\n",
    "import ollama\n",
    "import os\n",
    "\n",
    "# 경로 설정\n",
    "input_dir = \"./Data/None\"\n",
    "output_dir = \"./Data\"\n",
    "os.makedirs(output_dir, exist_ok=True)  # 출력 디렉토리 생성\n",
    "\n",
    "# 데이터 생성 함수\n",
    "def generate_data(hate_type, missing_count, existing_data):\n",
    "    generated_texts = []\n",
    "    for _ in range(missing_count):\n",
    "        # Train 데이터에서 해당 클래스의 랜덤 예시 3개 추출\n",
    "        examples = existing_data[existing_data['hate'] == hate_type]['comments'].dropna().sample(3).tolist()\n",
    "        prompt = f\"\"\"\n",
    "        아래의 형식에 맞추어 {hate_type} 유형의 새로운 문장을 하나 작성해줘.\n",
    "        **출력 형식: {{새로운 문장}}**\n",
    "        다른 형식의 출력은 포함하지 말아줘.\n",
    "\n",
    "        예시:\n",
    "        1. {{ {examples[0]} }}\n",
    "        2. {{ {examples[1]} }}\n",
    "        3. {{ {examples[2]} }}\n",
    "\n",
    "        이제 새로운 문장을 작성해줘.\n",
    "        \"\"\"\n",
    "\n",
    "        # Ollama 호출\n",
    "        response = ollama.chat(model=\"benedict/linkbricks-llama3.1-korean:70b\", messages=[\n",
    "            {\n",
    "                \"role\": \"user\",\n",
    "                \"content\": prompt.strip(),\n",
    "            }\n",
    "        ])\n",
    "        generated_text = response['message']['content'].strip()\n",
    "\n",
    "        # 출력 형식 검증\n",
    "        if not (generated_text.startswith(\"{\") and generated_text.endswith(\"}\")):\n",
    "            print(f\"잘못된 출력 형식: {generated_text}. 다시 요청합니다.\")\n",
    "            continue\n",
    "\n",
    "        # 형식이 올바른 경우 저장\n",
    "        generated_texts.append(generated_text[1:-1])  # {} 제거 후 저장\n",
    "        new_row = {\"comments\": generated_text[1:-1], \"hate\": hate_type}\n",
    "        existing_data = pd.concat([existing_data, pd.DataFrame([new_row])], ignore_index=True)\n",
    "        print(f\"생성된 문장 저장 완료: {generated_text[1:-1]}\")\n",
    "\n",
    "    return existing_data\n",
    "\n",
    "# 각 파일 처리\n",
    "for file_name in sorted(os.listdir(input_dir)):\n",
    "    if file_name.endswith(\".csv\"):\n",
    "        input_path = os.path.join(input_dir, file_name)\n",
    "        output_file = f\"GR_{file_name.split('_')[-1]}\"\n",
    "        output_path = os.path.join(output_dir, output_file)\n",
    "\n",
    "        # 파일 로드\n",
    "        gr_data = pd.read_csv(input_path)\n",
    "        print(f\"파일 {file_name}에서 데이터를 불러왔습니다.\")\n",
    "\n",
    "        # 클래스별 최대 개수 설정\n",
    "        target_count = gr_data['hate'].value_counts().max()\n",
    "\n",
    "        # 현재 데이터 분포 확인\n",
    "        current_counts = gr_data['hate'].value_counts()\n",
    "        print(f\"현재 {file_name} 분포:\")\n",
    "        print(current_counts)\n",
    "\n",
    "        # 부족한 클래스 데이터 생성\n",
    "        for hate_type in [\"offensive\", \"hate\"]:\n",
    "            current_count = current_counts.get(hate_type, 0)\n",
    "            missing_count = target_count - current_count  # 부족한 개수 계산\n",
    "            if missing_count > 0:\n",
    "                print(f\"{hate_type} 클래스가 {missing_count}개 부족합니다. 생성 중...\")\n",
    "                gr_data = generate_data(hate_type, missing_count, gr_data)\n",
    "                current_counts = gr_data['hate'].value_counts()  # 생성 후 분포 업데이트\n",
    "            else:\n",
    "                print(f\"{hate_type} 클래스는 충분합니다.\")\n",
    "\n",
    "        # 파일 저장\n",
    "        gr_data.to_csv(output_path, index=False, encoding=\"utf-8-sig\")\n",
    "        print(f\"{output_path}에 데이터 저장 완료.\")\n",
    "\n",
    "# 최종 완료 메시지\n",
    "print(\"모든 파일에 대한 데이터 생성 및 저장이 완료되었습니다.\")\n"
   ]
  },
  {
   "cell_type": "code",
   "execution_count": null,
   "id": "27db9152-b099-4421-9b6f-e47b9b43ec4d",
   "metadata": {},
   "outputs": [],
   "source": []
  }
 ],
 "metadata": {
  "kernelspec": {
   "display_name": "Python 3 (ipykernel)",
   "language": "python",
   "name": "python3"
  },
  "language_info": {
   "codemirror_mode": {
    "name": "ipython",
    "version": 3
   },
   "file_extension": ".py",
   "mimetype": "text/x-python",
   "name": "python",
   "nbconvert_exporter": "python",
   "pygments_lexer": "ipython3",
   "version": "3.9.20"
  }
 },
 "nbformat": 4,
 "nbformat_minor": 5
}
