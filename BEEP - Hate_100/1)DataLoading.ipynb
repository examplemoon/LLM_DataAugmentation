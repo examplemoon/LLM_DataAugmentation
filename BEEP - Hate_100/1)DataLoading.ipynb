{
 "cells": [
  {
   "cell_type": "code",
   "execution_count": 13,
   "id": "460c7e96-fe37-45b1-9e48-addcf7ee0642",
   "metadata": {},
   "outputs": [
    {
     "name": "stdout",
     "output_type": "stream",
     "text": [
      "Train.csv saved to: Data/Train.csv\n",
      "Test.csv saved to: Data/Test.csv\n"
     ]
    }
   ],
   "source": [
    "import koco\n",
    "import pandas as pd\n",
    "import os\n",
    "\n",
    "# 데이터 로드\n",
    "train_dev = koco.load_dataset('korean-hate-speech', mode='train_dev')\n",
    "\n",
    "# 데이터 추출\n",
    "train_data = pd.DataFrame(train_dev['train'])\n",
    "test_data = pd.DataFrame(train_dev['dev'])\n",
    "\n",
    "# 저장 경로 설정\n",
    "output_dir = \"Data\"\n",
    "os.makedirs(output_dir, exist_ok=True)\n",
    "\n",
    "# 파일 저장\n",
    "train_path = os.path.join(output_dir, \"Train.csv\")\n",
    "test_path = os.path.join(output_dir, \"Test.csv\")\n",
    "\n",
    "train_data.to_csv(train_path, index=False, encoding='utf-8-sig')\n",
    "test_data.to_csv(test_path, index=False, encoding='utf-8-sig')\n",
    "\n",
    "print(f\"Train.csv saved to: {train_path}\")\n",
    "print(f\"Test.csv saved to: {test_path}\")\n"
   ]
  },
  {
   "cell_type": "code",
   "execution_count": 14,
   "id": "cb17f4a7-af5c-4eec-894b-b4db1604397a",
   "metadata": {},
   "outputs": [
    {
     "name": "stdout",
     "output_type": "stream",
     "text": [
      "Train 데이터 Shape: (7896, 5)\n",
      "Train 데이터 Head:\n",
      "                                            comments  contain_gender_bias  \\\n",
      "0  (현재 호텔주인 심정) 아18 난 마른하늘에 날벼락맞고 호텔망하게생겼는데 누군 계속...                False   \n",
      "1  ....한국적인 미인의 대표적인 분...너무나 곱고아름다운모습...그모습뒤의 슬픔을...                False   \n",
      "2  ...못된 넘들...남의 고통을 즐겼던 넘들..이젠 마땅한 처벌을 받아야지..,그래...                False   \n",
      "3                 1,2화 어설펐는데 3,4화 지나서부터는 갈수록 너무 재밌던데                False   \n",
      "4  1. 사람 얼굴 손톱으로 긁은것은 인격살해이고2. 동영상이 몰카냐? 메걸리안들 생각...                 True   \n",
      "\n",
      "     bias  hate                                       news_title  \n",
      "0  others  hate         \"밤새 조문 행렬…故 전미선, 동료들이 그리워하는 따뜻한 배우 [종합]\"  \n",
      "1    none  none  \"'연중' 故 전미선, 생전 마지막 미공개 인터뷰…환하게 웃는 모습 '먹먹'[종합]\"  \n",
      "2    none  hate  \"[단독] 잔나비, 라디오 출연 취소→'한밤' 방송 연기..비판 여론 ing(종합)\"  \n",
      "3    none  none     \"'아스달 연대기' 장동건-김옥빈, 들끓는 '욕망커플'→눈물범벅 '칼끝 대립'\"  \n",
      "4  gender  hate  [DA:이슈] ‘구하라 비보’ 최종범 항소심에 영향?…법조계 “‘공소권 없음’ 아냐”  \n",
      "\n",
      "Test 데이터 Shape: (471, 5)\n",
      "Test 데이터 Head:\n",
      "                                            comments  contain_gender_bias  \\\n",
      "0                        송중기 시대극은 믿고본다. 첫회 신선하고 좋았다.                False   \n",
      "1                                            지현우 나쁜놈                False   \n",
      "2         알바쓰고많이만들면되지 돈욕심없으면골목식당왜나온겨 기댕기게나하고 산에가서팔어라                False   \n",
      "3                                   설마 ㅈ 현정 작가 아니지??                 True   \n",
      "4  이미자씨 송혜교씨 돈이 그리 많으면 탈세말고 그돈으로 평소에 불우이웃에게 기부도 좀...                False   \n",
      "\n",
      "     bias       hate                                         news_title  \n",
      "0    none       none          \"'아스달 연대기' 뇌안탈 후계자 송중기, 이아르크에 숨어들었다 [종합]\"  \n",
      "1    none  offensive                  ‘섹션TV’ 유인나 “결혼은 3년 후쯤 했으면…노력해보겠다”  \n",
      "2    none       hate                  \"'골목식당' 포방터시장, 계속되는 논란의 중심[SS초점]\"  \n",
      "3  gender       hate  \"\"\"마음 고생\"\"…나영석·정유미, 황당 불륜 지라시→방송작가 검거→벌금형 선고 [...  \n",
      "4    none  offensive      \"이미자 탈세, 10년간 44억 넘는 소득 신고 누락…약 20억 세금 추가 납부\"  \n"
     ]
    }
   ],
   "source": [
    "import pandas as pd\n",
    "\n",
    "# 파일 경로 설정\n",
    "train_path = \"Data/Train.csv\"\n",
    "test_path = \"Data/Test.csv\"\n",
    "\n",
    "# 데이터 로드\n",
    "train_data = pd.read_csv(train_path)\n",
    "test_data = pd.read_csv(test_path)\n",
    "\n",
    "# Train 데이터 shape 및 head 출력\n",
    "print(\"Train 데이터 Shape:\", train_data.shape)\n",
    "print(\"Train 데이터 Head:\")\n",
    "print(train_data.head())\n",
    "\n",
    "# Test 데이터 shape 및 head 출력\n",
    "print(\"\\nTest 데이터 Shape:\", test_data.shape)\n",
    "print(\"Test 데이터 Head:\")\n",
    "print(test_data.head())\n"
   ]
  },
  {
   "cell_type": "code",
   "execution_count": 1,
   "id": "06a3cd24-32ce-47e1-8eb7-19e225829d13",
   "metadata": {},
   "outputs": [
    {
     "name": "stdout",
     "output_type": "stream",
     "text": [
      "Bias 분포:\n",
      "bias\n",
      "none      5148\n",
      "others    1516\n",
      "gender    1232\n",
      "Name: count, dtype: int64\n",
      "\n",
      "Hate 분포:\n",
      "hate\n",
      "none         3486\n",
      "offensive    2499\n",
      "hate         1911\n",
      "Name: count, dtype: int64\n"
     ]
    }
   ],
   "source": [
    "import pandas as pd\n",
    "\n",
    "# 파일 경로 설정\n",
    "train_path = \"Data/Train.csv\"\n",
    "test_path = \"Data/Test.csv\"\n",
    "\n",
    "# 데이터 로드\n",
    "train_data = pd.read_csv(train_path)\n",
    "\n",
    "# bias 열 분포\n",
    "print(\"Bias 분포:\")\n",
    "print(train_data['bias'].value_counts())\n",
    "\n",
    "# hate 열 분포\n",
    "print(\"\\nHate 분포:\")\n",
    "print(train_data['hate'].value_counts())\n"
   ]
  },
  {
   "cell_type": "code",
   "execution_count": 3,
   "id": "43af3195-4bf6-4d88-a01f-5d6ffbb7189f",
   "metadata": {},
   "outputs": [
    {
     "name": "stdout",
     "output_type": "stream",
     "text": [
      "Train 데이터 label 분포:\n",
      "hate\n",
      "none         3486\n",
      "offensive    2499\n",
      "hate         1911\n",
      "Name: count, dtype: int64\n",
      "\n",
      "Test 데이터 label 분포:\n",
      "hate\n",
      "offensive    189\n",
      "none         160\n",
      "hate         122\n",
      "Name: count, dtype: int64\n",
      "\n",
      "Train 데이터 label 비율:\n",
      "hate\n",
      "none         44.148936\n",
      "offensive    31.648936\n",
      "hate         24.202128\n",
      "Name: count, dtype: float64\n",
      "\n",
      "Test 데이터 label 비율:\n",
      "hate\n",
      "offensive    40.127389\n",
      "none         33.970276\n",
      "hate         25.902335\n",
      "Name: count, dtype: float64\n"
     ]
    }
   ],
   "source": [
    "import pandas as pd\n",
    "\n",
    "# 데이터 로드\n",
    "train_data = pd.read_csv('./Data/Train.csv', encoding='utf-8')\n",
    "test_data = pd.read_csv('./Data/Test.csv', encoding='utf-8')\n",
    "\n",
    "# Train 데이터 label 분포 출력\n",
    "print(\"Train 데이터 label 분포:\")\n",
    "train_label_counts = train_data['hate'].value_counts()\n",
    "print(train_label_counts)\n",
    "\n",
    "# Test 데이터 label 분포 출력\n",
    "print(\"\\nTest 데이터 label 분포:\")\n",
    "test_label_counts = test_data['hate'].value_counts()\n",
    "print(test_label_counts)\n",
    "\n",
    "# 비율 계산 및 출력\n",
    "print(\"\\nTrain 데이터 label 비율:\")\n",
    "print(train_label_counts / len(train_data) * 100)\n",
    "\n",
    "print(\"\\nTest 데이터 label 비율:\")\n",
    "print(test_label_counts / len(test_data) * 100)\n"
   ]
  },
  {
   "cell_type": "code",
   "execution_count": 5,
   "id": "cc83f187-1c03-421c-a7f3-54e2314f3767",
   "metadata": {},
   "outputs": [
    {
     "name": "stdout",
     "output_type": "stream",
     "text": [
      "\n",
      "Train 데이터 라벨별 예시:\n",
      "\n",
      "라벨: hate (5개 예시)\n",
      "1. (현재 호텔주인 심정) 아18 난 마른하늘에 날벼락맞고 호텔망하게생겼는데 누군 계속 추모받네....\n",
      "2. ...못된 넘들...남의 고통을 즐겼던 넘들..이젠 마땅한 처벌을 받아야지..,그래야, 공정한 사회지...심은대로 거두거라...\n",
      "3. 1. 사람 얼굴 손톱으로 긁은것은 인격살해이고2. 동영상이 몰카냐? 메걸리안들 생각이 없노\n",
      "4. 100년안에 남녀간 성전쟁 한번 크게 치룬 후 일부다처제, 여성의 정치참여 금지, 여성 투표권 삭제가 세계의 공통문화로 자리잡을듯. 암탉이 너무 울어댐.\n",
      "5. 180이하 호빗 한남들은 결혼 하지마셈 ㅋ 돈없으면 연애도 하지마셈 ㅋ 니들 호빗 유전자 받아서 고통받을 네 후손은 뭔죄임?\n",
      "\n",
      "라벨: none (5개 예시)\n",
      "1. ....한국적인 미인의 대표적인 분...너무나 곱고아름다운모습...그모습뒤의 슬픔을 미처 알지못했네요ㅠ\n",
      "2. 1,2화 어설펐는데 3,4화 지나서부터는 갈수록 너무 재밌던데\n",
      "3. 10+8 진짜 이승기랑 비교된다\n",
      "4. 10년뒤 윤서인은 분명히 재평가될것임. 말하나하나가 틀린게없음\n",
      "5. 10살 차이가 넘을텐데 부부라고? 무슨 내용인지 긍금하네..\n",
      "\n",
      "라벨: offensive (5개 예시)\n",
      "1. 10년만에 재미를 느끼는 프로였는데왜 니들때문에 폐지를해야되냐\n",
      "2. 10년차방탄팬인데 우리방탄처럼 성공은못하겠지만 일단 방탄의 부하가되고싶다는거니 이름기억은해둠ㅇㅇ\n",
      "3. 1400억 뜯기고 얼마나 억울 했을꼬 뒤질만큼 아플만 하지~~~~ㅋㅋㅋㅋ\n",
      "4. 15살차이면 어릴때사고쳤으면 딸벌인데 ㅋㅋ 능력좋네 전현무 여자들이 전현무스타일이 좋은가봐\n",
      "5. 1년연예 ㅋㅋ 2년봅니다....\n",
      "\n",
      "Test 데이터 라벨별 예시:\n",
      "\n",
      "라벨: none (5개 예시)\n",
      "1. 송중기 시대극은 믿고본다. 첫회 신선하고 좋았다.\n",
      "2. 아이즈원 힘내세요...일본 진출도 했으니 일본서 좋은 모습 보여줘도 팬들은 응원 합니다.\n",
      "3. 강부자 선생님 전미선 비보에 오열을 하셨다니 눈물이 나네요 힘내세요\n",
      "4. 이경규가 이런거보면 세련되긴함 저 나이에 차은우 누가 알꼬 아무리 잘생겼다해도. 배워야할점 많으신분\n",
      "5. 진짜 멋지네요~\n",
      "\n",
      "라벨: offensive (5개 예시)\n",
      "1. 지현우 나쁜놈\n",
      "2. 이미자씨 송혜교씨 돈이 그리 많으면 탈세말고 그돈으로 평소에 불우이웃에게 기부도 좀 하고사시죠.\n",
      "3. 알았어 그만\n",
      "4. 이영자씨는 진정성 있는거라면 녹화불참으로 끝내지말고 자진하차해라 시청자는 고려도 안하고 일방적 불참은 아닌듯 엠비씨도 시청율 좋아서 고민하는거 같은데 결방할게 아니고 폐지해라\n",
      "5. 명수 응근슬쩍 뒷치기각잡네\n",
      "\n",
      "라벨: hate (5개 예시)\n",
      "1. 알바쓰고많이만들면되지 돈욕심없으면골목식당왜나온겨 기댕기게나하고 산에가서팔어라\n",
      "2. 설마 ㅈ 현정 작가 아니지??\n",
      "3. 일베충들 ㅂㄷ거리는것봐라 ㅉㅉ\n",
      "4. 아c발 어쩌라고 뭔기사가계속나오냐\n",
      "5. 송이매니저 거지냐 치과치료비용까지 남한테 타서 하게. 솔직히 치아관리를 얼마나 안했으면 앞니가 시커멓게 될따까지 냅두냐 치과공포증은 핑계지 볼때마다 얼마나 거슬리는데 쟤네 부모님은 뭐하나 앞니하나 치료도 못해주고?\n"
     ]
    }
   ],
   "source": [
    "# 라벨별로 예시를 출력하는 함수\n",
    "def print_label_examples(data, label_column, text_column, num_examples=5):\n",
    "    labels = data[label_column].unique()\n",
    "    for label in labels:\n",
    "        print(f\"\\n라벨: {label} ({num_examples}개 예시)\")\n",
    "        examples = data[data[label_column] == label][text_column].head(num_examples)\n",
    "        for i, example in enumerate(examples, start=1):\n",
    "            print(f\"{i}. {example}\")\n",
    "\n",
    "# Train 데이터 라벨별 예시 출력\n",
    "print(\"\\nTrain 데이터 라벨별 예시:\")\n",
    "print_label_examples(train_data, label_column='hate', text_column='comments', num_examples=5)\n",
    "\n",
    "# Test 데이터 라벨별 예시 출력\n",
    "print(\"\\nTest 데이터 라벨별 예시:\")\n",
    "print_label_examples(test_data, label_column='hate', text_column='comments', num_examples=5)\n"
   ]
  },
  {
   "cell_type": "code",
   "execution_count": null,
   "id": "1a5b4a3d-c59b-4283-96b2-4559fc63ab0c",
   "metadata": {},
   "outputs": [],
   "source": []
  }
 ],
 "metadata": {
  "kernelspec": {
   "display_name": "Python 3 (ipykernel)",
   "language": "python",
   "name": "python3"
  },
  "language_info": {
   "codemirror_mode": {
    "name": "ipython",
    "version": 3
   },
   "file_extension": ".py",
   "mimetype": "text/x-python",
   "name": "python",
   "nbconvert_exporter": "python",
   "pygments_lexer": "ipython3",
   "version": "3.9.20"
  }
 },
 "nbformat": 4,
 "nbformat_minor": 5
}
