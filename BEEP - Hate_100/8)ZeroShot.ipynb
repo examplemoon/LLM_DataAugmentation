{
 "cells": [
  {
   "cell_type": "code",
   "execution_count": null,
   "id": "69a47e61-f95f-4829-a693-3701ce84fd02",
   "metadata": {},
   "outputs": [],
   "source": [
    "import pandas as pd\n",
    "import ollama\n",
    "import os\n",
    "import re\n",
    "\n",
    "# 경로 설정\n",
    "input_dir = \"./Data/None\"\n",
    "output_dir = \"./Data/ZeroShot\"\n",
    "os.makedirs(output_dir, exist_ok=True)  # 출력 디렉토리 생성\n",
    "\n",
    "# 클래스 이름 한국어로 매핑\n",
    "hate_type_map = {\n",
    "    \"none\": \"없음\",\n",
    "    \"offensive\": \"모욕\",\n",
    "    \"hate\": \"혐오\"\n",
    "}\n",
    "\n",
    "# 데이터 생성 함수\n",
    "def generate_data(hate_type, additional_count, existing_data, output_path):\n",
    "    generated_set = set(existing_data['comments'].dropna())  # 중복 방지용 집합\n",
    "    hate_type_kor = hate_type_map.get(hate_type, hate_type)  # 한국어로 변환\n",
    "\n",
    "    while additional_count > 0:\n",
    "        try:\n",
    "            # Train 데이터에서 해당 클래스의 랜덤 예시 3개 추출\n",
    "            examples = existing_data[existing_data['hate'] == hate_type]['comments'].dropna().sample(3).tolist()\n",
    "            prompt = f\"\"\"\n",
    "            아래의 형식에 맞추어 {hate_type_kor} 혐오유형의 새로운 문장을 하나 작성해줘.\n",
    "            **출력 형식: {{새로운 문장}}**\n",
    "            다른 형식의 출력은 절대 사용하지마.\n",
    "\n",
    "            이제 새로운 문장을 작성해줘.\n",
    "            \"\"\"\n",
    "\n",
    "            # Ollama 호출\n",
    "            response = ollama.chat(model=\"exaone3.5:2.4b\", messages=[\n",
    "                {\n",
    "                    \"role\": \"user\",\n",
    "                    \"content\": prompt.strip(),\n",
    "                }\n",
    "            ])\n",
    "            generated_text = response['message']['content'].strip()\n",
    "\n",
    "            # 정규 표현식으로 { } 안의 내용 추출\n",
    "            match = re.search(r\"\\{(.+?)\\}\", generated_text)\n",
    "            if match:\n",
    "                new_comment = match.group(1).strip()\n",
    "\n",
    "                # 중복 확인\n",
    "                if new_comment in generated_set:\n",
    "                    continue\n",
    "\n",
    "                # 새로운 데이터 추가\n",
    "                new_row = {\"comments\": new_comment, \"hate\": hate_type}\n",
    "                existing_data = pd.concat([existing_data, pd.DataFrame([new_row])], ignore_index=True)\n",
    "                generated_set.add(new_comment)\n",
    "                additional_count -= 1\n",
    "\n",
    "                # 중간 저장\n",
    "                existing_data.to_csv(output_path, index=False, encoding=\"utf-8-sig\")\n",
    "\n",
    "        except Exception as e:\n",
    "            print(f\"오류 발생: {e}\")\n",
    "            continue\n",
    "\n",
    "    return existing_data\n",
    "\n",
    "# 각 파일 처리\n",
    "for file_name in sorted(os.listdir(input_dir)):\n",
    "    if file_name.endswith(\".csv\"):\n",
    "        input_path = os.path.join(input_dir, file_name)\n",
    "        output_file = f\"ZeroShot_{file_name.split('_')[-1]}\"\n",
    "        output_path = os.path.join(output_dir, output_file)\n",
    "\n",
    "        # 파일 로드\n",
    "        gr_data = pd.read_csv(input_path)\n",
    "\n",
    "        # 클래스별 100% 추가 생성\n",
    "        current_counts = gr_data['hate'].value_counts()\n",
    "        for hate_type, count in current_counts.items():\n",
    "            additional_count = count  # 100% 증가\n",
    "            gr_data = generate_data(hate_type, additional_count, gr_data, output_path)\n",
    "\n",
    "        # 클래스 추가 후 확인\n",
    "        final_counts = gr_data['hate'].value_counts()\n",
    "        print(f\"{output_path} - 모든 클래스의 데이터가 100% 증가했습니다. 최종 분포: {final_counts}\")\n",
    "\n",
    "# 최종 완료 메시지\n",
    "print(\"모든 파일에 대한 데이터 생성 및 저장이 완료되었습니다.\")\n"
   ]
  },
  {
   "cell_type": "code",
   "execution_count": null,
   "id": "9ce12e0e-1fef-444e-9382-5d592093fb33",
   "metadata": {},
   "outputs": [],
   "source": [
    "import pandas as pd\n",
    "import ollama\n",
    "import os\n",
    "import re\n",
    "\n",
    "# 경로 설정\n",
    "input_dir = \"./Data/None\"\n",
    "output_dir = \"./Data/OneShot\"\n",
    "os.makedirs(output_dir, exist_ok=True)  # 출력 디렉토리 생성\n",
    "\n",
    "# 클래스 이름 한국어로 매핑\n",
    "hate_type_map = {\n",
    "    \"none\": \"없음\",\n",
    "    \"offensive\": \"모욕\",\n",
    "    \"hate\": \"혐오\"\n",
    "}\n",
    "\n",
    "# 데이터 생성 함수\n",
    "def generate_data(hate_type, additional_count, existing_data, output_path):\n",
    "    generated_set = set(existing_data['comments'].dropna())  # 중복 방지용 집합\n",
    "    hate_type_kor = hate_type_map.get(hate_type, hate_type)  # 한국어로 변환\n",
    "\n",
    "    # 해당 hate 유형의 랜덤 예시 하나 추출\n",
    "    example = existing_data[existing_data['hate'] == hate_type]['comments'].dropna().sample(1).iloc[0]\n",
    "\n",
    "    while additional_count > 0:\n",
    "        try:\n",
    "            # 프롬프트 구성\n",
    "            prompt = f\"\"\"\n",
    "            아래는 {hate_type_kor} 유형의 문장 예시야:\n",
    "            예시: \"{example}\"\n",
    "\n",
    "            위 예시를 참고하여 {hate_type_kor} 유형의 새로운 문장을 하나 작성해줘.\n",
    "            **출력 형식: {{새로운 문장}}**\n",
    "            다른 형식의 출력은 절대 사용하지마.\n",
    "\n",
    "            이제 새로운 문장을 작성해줘.\n",
    "            \"\"\"\n",
    "\n",
    "            # Ollama 호출\n",
    "            response = ollama.chat(model=\"exaone3.5:2.4b\", messages=[\n",
    "                {\n",
    "                    \"role\": \"user\",\n",
    "                    \"content\": prompt.strip(),\n",
    "                }\n",
    "            ])\n",
    "            generated_text = response['message']['content'].strip()\n",
    "\n",
    "            # 정규 표현식으로 { } 안의 내용 추출\n",
    "            match = re.search(r\"\\{(.+?)\\}\", generated_text)\n",
    "            if match:\n",
    "                new_comment = match.group(1).strip()\n",
    "\n",
    "                # 중복 확인\n",
    "                if new_comment in generated_set:\n",
    "                    continue\n",
    "\n",
    "                # 새로운 데이터 추가\n",
    "                new_row = {\"comments\": new_comment, \"hate\": hate_type}\n",
    "                existing_data = pd.concat([existing_data, pd.DataFrame([new_row])], ignore_index=True)\n",
    "                generated_set.add(new_comment)\n",
    "                additional_count -= 1\n",
    "\n",
    "                # 중간 저장\n",
    "                existing_data.to_csv(output_path, index=False, encoding=\"utf-8-sig\")\n",
    "\n",
    "        except Exception as e:\n",
    "            print(f\"오류 발생: {e}\")\n",
    "            continue\n",
    "\n",
    "    return existing_data\n",
    "\n",
    "# 각 파일 처리\n",
    "for file_name in sorted(os.listdir(input_dir)):\n",
    "    if file_name.endswith(\".csv\"):\n",
    "        input_path = os.path.join(input_dir, file_name)\n",
    "        output_file = f\"OneShot_{file_name.split('_')[-1]}\"\n",
    "        output_path = os.path.join(output_dir, output_file)\n",
    "\n",
    "        # 파일 로드\n",
    "        gr_data = pd.read_csv(input_path)\n",
    "\n",
    "        # 클래스별 100% 추가 생성\n",
    "        current_counts = gr_data['hate'].value_counts()\n",
    "        for hate_type, count in current_counts.items():\n",
    "            additional_count = count  # 100% 증가\n",
    "            gr_data = generate_data(hate_type, additional_count, gr_data, output_path)\n",
    "\n",
    "        # 클래스 추가 후 확인\n",
    "        final_counts = gr_data['hate'].value_counts()\n",
    "        print(f\"{output_path} - 모든 클래스의 데이터가 100% 증가했습니다. 최종 분포: {final_counts}\")\n",
    "\n",
    "# 최종 완료 메시지\n",
    "print(\"모든 파일에 대한 데이터 생성 및 저장이 완료되었습니다.\")"
   ]
  },
  {
   "cell_type": "code",
   "execution_count": 38,
   "id": "d445236e-e99e-4e83-8c83-f35daec40d9b",
   "metadata": {},
   "outputs": [
    {
     "name": "stdout",
     "output_type": "stream",
     "text": [
      "./Data/ThreeShot/ThreeShot_1.csv - 모든 클래스의 데이터가 100% 증가했습니다. 최종 분포: hate\n",
      "none         88\n",
      "offensive    62\n",
      "hate         50\n",
      "Name: count, dtype: int64\n",
      "./Data/ThreeShot/ThreeShot_2.csv - 모든 클래스의 데이터가 100% 증가했습니다. 최종 분포: hate\n",
      "none         94\n",
      "offensive    58\n",
      "hate         48\n",
      "Name: count, dtype: int64\n",
      "./Data/ThreeShot/ThreeShot_3.csv - 모든 클래스의 데이터가 100% 증가했습니다. 최종 분포: hate\n",
      "none         84\n",
      "hate         66\n",
      "offensive    50\n",
      "Name: count, dtype: int64\n",
      "./Data/ThreeShot/ThreeShot_4.csv - 모든 클래스의 데이터가 100% 증가했습니다. 최종 분포: hate\n",
      "none         100\n",
      "offensive     60\n",
      "hate          40\n",
      "Name: count, dtype: int64\n",
      "./Data/ThreeShot/ThreeShot_5.csv - 모든 클래스의 데이터가 100% 증가했습니다. 최종 분포: hate\n",
      "none         80\n",
      "offensive    78\n",
      "hate         42\n",
      "Name: count, dtype: int64\n",
      "모든 파일에 대한 데이터 생성 및 저장이 완료되었습니다.\n"
     ]
    }
   ],
   "source": [
    "import pandas as pd\n",
    "import ollama\n",
    "import os\n",
    "import re\n",
    "\n",
    "# 경로 설정\n",
    "input_dir = \"./Data/None\"\n",
    "output_dir = \"./Data/ThreeShot\"\n",
    "os.makedirs(output_dir, exist_ok=True)  # 출력 디렉토리 생성\n",
    "\n",
    "# 클래스 이름 한국어로 매핑\n",
    "hate_type_map = {\n",
    "    \"none\": \"없음\",\n",
    "    \"offensive\": \"모욕\",\n",
    "    \"hate\": \"혐오\"\n",
    "}\n",
    "\n",
    "# 데이터 생성 함수\n",
    "def generate_data(hate_type, additional_count, existing_data, output_path):\n",
    "    generated_set = set(existing_data['comments'].dropna())  # 중복 방지용 집합\n",
    "    hate_type_kor = hate_type_map.get(hate_type, hate_type)  # 한국어로 변환\n",
    "\n",
    "    # 해당 hate 유형의 예시 순서대로 추출\n",
    "    examples = existing_data[existing_data['hate'] == hate_type]['comments'].dropna().tolist()\n",
    "    example_count = len(examples)\n",
    "\n",
    "    while additional_count > 0:\n",
    "        try:\n",
    "            # 순서대로 3개의 예시를 구성\n",
    "            start_index = (example_count - additional_count) % example_count\n",
    "            current_examples = examples[start_index:start_index + 3]\n",
    "\n",
    "            # 순환 처리로 3개가 안되면 앞에서 추가\n",
    "            while len(current_examples) < 3:\n",
    "                current_examples.append(examples[len(current_examples) % example_count])\n",
    "\n",
    "            # 프롬프트 구성\n",
    "            prompt = f\"\"\"\n",
    "            아래는 {hate_type_kor} 유형의 문장 예시야:\n",
    "            예시 1: \"{current_examples[0]}\"\n",
    "            예시 2: \"{current_examples[1]}\"\n",
    "            예시 3: \"{current_examples[2]}\"\n",
    "\n",
    "            위 예시를 참고하여 {hate_type_kor} 유형의 새로운 문장을 하나 작성해줘.\n",
    "            **출력 형식: {{새로운 문장}}**\n",
    "            다른 형식의 출력은 포함하지 말아줘.\n",
    "\n",
    "            이제 새로운 문장을 작성해줘.\n",
    "            \"\"\"\n",
    "\n",
    "            # Ollama 호출\n",
    "            response = ollama.chat(model=\"exaone3.5:2.4b\", messages=[\n",
    "                {\n",
    "                    \"role\": \"user\",\n",
    "                    \"content\": prompt.strip(),\n",
    "                }\n",
    "            ])\n",
    "            generated_text = response['message']['content'].strip()\n",
    "\n",
    "            # 정규 표현식으로 { } 안의 내용 추출\n",
    "            match = re.search(r\"\\{(.+?)\\}\", generated_text)\n",
    "            if match:\n",
    "                new_comment = match.group(1).strip()\n",
    "\n",
    "                # 중복 확인\n",
    "                if new_comment in generated_set:\n",
    "                    continue\n",
    "\n",
    "                # 새로운 데이터 추가\n",
    "                new_row = {\"comments\": new_comment, \"hate\": hate_type}\n",
    "                existing_data = pd.concat([existing_data, pd.DataFrame([new_row])], ignore_index=True)\n",
    "                generated_set.add(new_comment)\n",
    "                additional_count -= 1\n",
    "\n",
    "                # 중간 저장\n",
    "                existing_data.to_csv(output_path, index=False, encoding=\"utf-8-sig\")\n",
    "\n",
    "        except Exception as e:\n",
    "            print(f\"오류 발생: {e}\")\n",
    "            continue\n",
    "\n",
    "    return existing_data\n",
    "\n",
    "# 각 파일 처리\n",
    "for file_name in sorted(os.listdir(input_dir)):\n",
    "    if file_name.endswith(\".csv\"):\n",
    "        input_path = os.path.join(input_dir, file_name)\n",
    "        output_file = f\"ThreeShot_{file_name.split('_')[-1]}\"\n",
    "        output_path = os.path.join(output_dir, output_file)\n",
    "\n",
    "        # 파일 로드\n",
    "        gr_data = pd.read_csv(input_path)\n",
    "\n",
    "        # 클래스별 100% 추가 생성\n",
    "        current_counts = gr_data['hate'].value_counts()\n",
    "        for hate_type, count in current_counts.items():\n",
    "            additional_count = count  # 100% 증가\n",
    "            gr_data = generate_data(hate_type, additional_count, gr_data, output_path)\n",
    "\n",
    "        # 클래스 추가 후 확인\n",
    "        final_counts = gr_data['hate'].value_counts()\n",
    "        print(f\"{output_path} - 모든 클래스의 데이터가 100% 증가했습니다. 최종 분포: {final_counts}\")\n",
    "\n",
    "# 최종 완료 메시지\n",
    "print(\"모든 파일에 대한 데이터 생성 및 저장이 완료되었습니다.\")\n"
   ]
  },
  {
   "cell_type": "code",
   "execution_count": 39,
   "id": "f0579d3f-66c2-4b57-8921-272085cb005f",
   "metadata": {},
   "outputs": [
    {
     "name": "stderr",
     "output_type": "stream",
     "text": [
      "Some weights of BertForSequenceClassification were not initialized from the model checkpoint at bert-base-uncased and are newly initialized: ['classifier.bias', 'classifier.weight']\n",
      "You should probably TRAIN this model on a down-stream task to be able to use it for predictions and inference.\n",
      "/usr/local/lib/python3.9/dist-packages/transformers/optimization.py:591: FutureWarning: This implementation of AdamW is deprecated and will be removed in a future version. Use the PyTorch implementation torch.optim.AdamW instead, or set `no_deprecation_warning=True` to disable this warning\n",
      "  warnings.warn(\n"
     ]
    },
    {
     "name": "stdout",
     "output_type": "stream",
     "text": [
      "ZeroShot/ZeroShot_1.csv - Epoch 1 - Loss: 7.8127\n",
      "ZeroShot/ZeroShot_1.csv - Epoch 2 - Loss: 7.4376\n",
      "ZeroShot/ZeroShot_1.csv - Epoch 3 - Loss: 7.6101\n",
      "Test Results for ZeroShot/ZeroShot_1.csv: F1 Micro = 0.3461, F1 Macro = 0.1917\n"
     ]
    },
    {
     "name": "stderr",
     "output_type": "stream",
     "text": [
      "/usr/local/lib/python3.9/dist-packages/transformers/optimization.py:591: FutureWarning: This implementation of AdamW is deprecated and will be removed in a future version. Use the PyTorch implementation torch.optim.AdamW instead, or set `no_deprecation_warning=True` to disable this warning\n",
      "  warnings.warn(\n"
     ]
    },
    {
     "name": "stdout",
     "output_type": "stream",
     "text": [
      "ZeroShot/ZeroShot_2.csv - Epoch 1 - Loss: 7.3556\n",
      "ZeroShot/ZeroShot_2.csv - Epoch 2 - Loss: 7.6909\n",
      "ZeroShot/ZeroShot_2.csv - Epoch 3 - Loss: 7.3627\n",
      "Test Results for ZeroShot/ZeroShot_2.csv: F1 Micro = 0.3397, F1 Macro = 0.1690\n"
     ]
    },
    {
     "name": "stderr",
     "output_type": "stream",
     "text": [
      "/usr/local/lib/python3.9/dist-packages/transformers/optimization.py:591: FutureWarning: This implementation of AdamW is deprecated and will be removed in a future version. Use the PyTorch implementation torch.optim.AdamW instead, or set `no_deprecation_warning=True` to disable this warning\n",
      "  warnings.warn(\n"
     ]
    },
    {
     "name": "stdout",
     "output_type": "stream",
     "text": [
      "ZeroShot/ZeroShot_3.csv - Epoch 1 - Loss: 7.5470\n",
      "ZeroShot/ZeroShot_3.csv - Epoch 2 - Loss: 7.3918\n",
      "ZeroShot/ZeroShot_3.csv - Epoch 3 - Loss: 6.7944\n",
      "Test Results for ZeroShot/ZeroShot_3.csv: F1 Micro = 0.3546, F1 Macro = 0.2121\n"
     ]
    },
    {
     "name": "stderr",
     "output_type": "stream",
     "text": [
      "/usr/local/lib/python3.9/dist-packages/transformers/optimization.py:591: FutureWarning: This implementation of AdamW is deprecated and will be removed in a future version. Use the PyTorch implementation torch.optim.AdamW instead, or set `no_deprecation_warning=True` to disable this warning\n",
      "  warnings.warn(\n"
     ]
    },
    {
     "name": "stdout",
     "output_type": "stream",
     "text": [
      "ZeroShot/ZeroShot_4.csv - Epoch 1 - Loss: 7.3887\n",
      "ZeroShot/ZeroShot_4.csv - Epoch 2 - Loss: 7.1711\n",
      "ZeroShot/ZeroShot_4.csv - Epoch 3 - Loss: 7.0922\n",
      "Test Results for ZeroShot/ZeroShot_4.csv: F1 Micro = 0.3737, F1 Macro = 0.2563\n"
     ]
    },
    {
     "name": "stderr",
     "output_type": "stream",
     "text": [
      "/usr/local/lib/python3.9/dist-packages/transformers/optimization.py:591: FutureWarning: This implementation of AdamW is deprecated and will be removed in a future version. Use the PyTorch implementation torch.optim.AdamW instead, or set `no_deprecation_warning=True` to disable this warning\n",
      "  warnings.warn(\n"
     ]
    },
    {
     "name": "stdout",
     "output_type": "stream",
     "text": [
      "ZeroShot/ZeroShot_5.csv - Epoch 1 - Loss: 7.8136\n",
      "ZeroShot/ZeroShot_5.csv - Epoch 2 - Loss: 7.3148\n",
      "ZeroShot/ZeroShot_5.csv - Epoch 3 - Loss: 7.0774\n",
      "Test Results for ZeroShot/ZeroShot_5.csv: F1 Micro = 0.4076, F1 Macro = 0.3108\n"
     ]
    },
    {
     "name": "stderr",
     "output_type": "stream",
     "text": [
      "/usr/local/lib/python3.9/dist-packages/transformers/optimization.py:591: FutureWarning: This implementation of AdamW is deprecated and will be removed in a future version. Use the PyTorch implementation torch.optim.AdamW instead, or set `no_deprecation_warning=True` to disable this warning\n",
      "  warnings.warn(\n"
     ]
    },
    {
     "name": "stdout",
     "output_type": "stream",
     "text": [
      "OneShot/OneShot_1.csv - Epoch 1 - Loss: 7.1114\n",
      "OneShot/OneShot_1.csv - Epoch 2 - Loss: 6.2256\n",
      "OneShot/OneShot_1.csv - Epoch 3 - Loss: 5.8618\n",
      "Test Results for OneShot/OneShot_1.csv: F1 Micro = 0.3843, F1 Macro = 0.3538\n"
     ]
    },
    {
     "name": "stderr",
     "output_type": "stream",
     "text": [
      "/usr/local/lib/python3.9/dist-packages/transformers/optimization.py:591: FutureWarning: This implementation of AdamW is deprecated and will be removed in a future version. Use the PyTorch implementation torch.optim.AdamW instead, or set `no_deprecation_warning=True` to disable this warning\n",
      "  warnings.warn(\n"
     ]
    },
    {
     "name": "stdout",
     "output_type": "stream",
     "text": [
      "OneShot/OneShot_2.csv - Epoch 1 - Loss: 6.7251\n",
      "OneShot/OneShot_2.csv - Epoch 2 - Loss: 6.1782\n",
      "OneShot/OneShot_2.csv - Epoch 3 - Loss: 5.5429\n",
      "Test Results for OneShot/OneShot_2.csv: F1 Micro = 0.3970, F1 Macro = 0.3335\n"
     ]
    },
    {
     "name": "stderr",
     "output_type": "stream",
     "text": [
      "/usr/local/lib/python3.9/dist-packages/transformers/optimization.py:591: FutureWarning: This implementation of AdamW is deprecated and will be removed in a future version. Use the PyTorch implementation torch.optim.AdamW instead, or set `no_deprecation_warning=True` to disable this warning\n",
      "  warnings.warn(\n"
     ]
    },
    {
     "name": "stdout",
     "output_type": "stream",
     "text": [
      "OneShot/OneShot_3.csv - Epoch 1 - Loss: 6.2546\n",
      "OneShot/OneShot_3.csv - Epoch 2 - Loss: 5.4588\n",
      "OneShot/OneShot_3.csv - Epoch 3 - Loss: 5.1109\n",
      "Test Results for OneShot/OneShot_3.csv: F1 Micro = 0.3673, F1 Macro = 0.3647\n"
     ]
    },
    {
     "name": "stderr",
     "output_type": "stream",
     "text": [
      "/usr/local/lib/python3.9/dist-packages/transformers/optimization.py:591: FutureWarning: This implementation of AdamW is deprecated and will be removed in a future version. Use the PyTorch implementation torch.optim.AdamW instead, or set `no_deprecation_warning=True` to disable this warning\n",
      "  warnings.warn(\n"
     ]
    },
    {
     "name": "stdout",
     "output_type": "stream",
     "text": [
      "OneShot/OneShot_4.csv - Epoch 1 - Loss: 8.9746\n",
      "OneShot/OneShot_4.csv - Epoch 2 - Loss: 6.9063\n",
      "OneShot/OneShot_4.csv - Epoch 3 - Loss: 6.8319\n",
      "Test Results for OneShot/OneShot_4.csv: F1 Micro = 0.3800, F1 Macro = 0.2849\n"
     ]
    },
    {
     "name": "stderr",
     "output_type": "stream",
     "text": [
      "/usr/local/lib/python3.9/dist-packages/transformers/optimization.py:591: FutureWarning: This implementation of AdamW is deprecated and will be removed in a future version. Use the PyTorch implementation torch.optim.AdamW instead, or set `no_deprecation_warning=True` to disable this warning\n",
      "  warnings.warn(\n"
     ]
    },
    {
     "name": "stdout",
     "output_type": "stream",
     "text": [
      "OneShot/OneShot_5.csv - Epoch 1 - Loss: 7.6214\n",
      "OneShot/OneShot_5.csv - Epoch 2 - Loss: 7.1738\n",
      "OneShot/OneShot_5.csv - Epoch 3 - Loss: 7.0149\n",
      "Test Results for OneShot/OneShot_5.csv: F1 Micro = 0.3652, F1 Macro = 0.2611\n"
     ]
    },
    {
     "name": "stderr",
     "output_type": "stream",
     "text": [
      "/usr/local/lib/python3.9/dist-packages/transformers/optimization.py:591: FutureWarning: This implementation of AdamW is deprecated and will be removed in a future version. Use the PyTorch implementation torch.optim.AdamW instead, or set `no_deprecation_warning=True` to disable this warning\n",
      "  warnings.warn(\n"
     ]
    },
    {
     "name": "stdout",
     "output_type": "stream",
     "text": [
      "ThreeShot/ThreeShot_1.csv - Epoch 1 - Loss: 7.6650\n",
      "ThreeShot/ThreeShot_1.csv - Epoch 2 - Loss: 7.3652\n",
      "ThreeShot/ThreeShot_1.csv - Epoch 3 - Loss: 7.2298\n",
      "Test Results for ThreeShot/ThreeShot_1.csv: F1 Micro = 0.3397, F1 Macro = 0.1690\n"
     ]
    },
    {
     "name": "stderr",
     "output_type": "stream",
     "text": [
      "/usr/local/lib/python3.9/dist-packages/transformers/optimization.py:591: FutureWarning: This implementation of AdamW is deprecated and will be removed in a future version. Use the PyTorch implementation torch.optim.AdamW instead, or set `no_deprecation_warning=True` to disable this warning\n",
      "  warnings.warn(\n"
     ]
    },
    {
     "name": "stdout",
     "output_type": "stream",
     "text": [
      "ThreeShot/ThreeShot_2.csv - Epoch 1 - Loss: 7.4553\n",
      "ThreeShot/ThreeShot_2.csv - Epoch 2 - Loss: 7.0345\n",
      "ThreeShot/ThreeShot_2.csv - Epoch 3 - Loss: 6.6412\n",
      "Test Results for ThreeShot/ThreeShot_2.csv: F1 Micro = 0.3864, F1 Macro = 0.3237\n"
     ]
    },
    {
     "name": "stderr",
     "output_type": "stream",
     "text": [
      "/usr/local/lib/python3.9/dist-packages/transformers/optimization.py:591: FutureWarning: This implementation of AdamW is deprecated and will be removed in a future version. Use the PyTorch implementation torch.optim.AdamW instead, or set `no_deprecation_warning=True` to disable this warning\n",
      "  warnings.warn(\n"
     ]
    },
    {
     "name": "stdout",
     "output_type": "stream",
     "text": [
      "ThreeShot/ThreeShot_3.csv - Epoch 1 - Loss: 7.3951\n",
      "ThreeShot/ThreeShot_3.csv - Epoch 2 - Loss: 6.7365\n",
      "ThreeShot/ThreeShot_3.csv - Epoch 3 - Loss: 6.1366\n",
      "Test Results for ThreeShot/ThreeShot_3.csv: F1 Micro = 0.3524, F1 Macro = 0.2927\n"
     ]
    },
    {
     "name": "stderr",
     "output_type": "stream",
     "text": [
      "/usr/local/lib/python3.9/dist-packages/transformers/optimization.py:591: FutureWarning: This implementation of AdamW is deprecated and will be removed in a future version. Use the PyTorch implementation torch.optim.AdamW instead, or set `no_deprecation_warning=True` to disable this warning\n",
      "  warnings.warn(\n"
     ]
    },
    {
     "name": "stdout",
     "output_type": "stream",
     "text": [
      "ThreeShot/ThreeShot_4.csv - Epoch 1 - Loss: 7.3938\n",
      "ThreeShot/ThreeShot_4.csv - Epoch 2 - Loss: 6.7265\n",
      "ThreeShot/ThreeShot_4.csv - Epoch 3 - Loss: 6.3817\n",
      "Test Results for ThreeShot/ThreeShot_4.csv: F1 Micro = 0.3546, F1 Macro = 0.2814\n"
     ]
    },
    {
     "name": "stderr",
     "output_type": "stream",
     "text": [
      "/usr/local/lib/python3.9/dist-packages/transformers/optimization.py:591: FutureWarning: This implementation of AdamW is deprecated and will be removed in a future version. Use the PyTorch implementation torch.optim.AdamW instead, or set `no_deprecation_warning=True` to disable this warning\n",
      "  warnings.warn(\n"
     ]
    },
    {
     "name": "stdout",
     "output_type": "stream",
     "text": [
      "ThreeShot/ThreeShot_5.csv - Epoch 1 - Loss: 6.9652\n",
      "ThreeShot/ThreeShot_5.csv - Epoch 2 - Loss: 6.5791\n",
      "ThreeShot/ThreeShot_5.csv - Epoch 3 - Loss: 6.3519\n",
      "Test Results for ThreeShot/ThreeShot_5.csv: F1 Micro = 0.3694, F1 Macro = 0.3263\n",
      "Summary updated and saved to ./Data/Summary.csv\n"
     ]
    }
   ],
   "source": [
    "import pandas as pd\n",
    "import torch\n",
    "from torch.utils.data import DataLoader, Dataset\n",
    "from transformers import AutoTokenizer, AutoModelForSequenceClassification, AdamW\n",
    "from sklearn.metrics import f1_score\n",
    "import os\n",
    "\n",
    "# 사용자 정의 데이터셋 클래스\n",
    "class SimpleDataset(Dataset):\n",
    "    def __init__(self, texts, labels, tokenizer, max_len):\n",
    "        self.texts = texts\n",
    "        self.labels = labels\n",
    "        self.tokenizer = tokenizer\n",
    "        self.max_len = max_len\n",
    "\n",
    "    def __len__(self):\n",
    "        return len(self.texts)\n",
    "\n",
    "    def __getitem__(self, idx):\n",
    "        inputs = self.tokenizer(\n",
    "            self.texts[idx],\n",
    "            add_special_tokens=True,\n",
    "            max_length=self.max_len,\n",
    "            padding=\"max_length\",\n",
    "            truncation=True,\n",
    "            return_tensors=\"pt\",\n",
    "        )\n",
    "        return {\n",
    "            \"input_ids\": inputs[\"input_ids\"].squeeze(0),\n",
    "            \"attention_mask\": inputs[\"attention_mask\"].squeeze(0),\n",
    "            \"label\": torch.tensor(self.labels[idx], dtype=torch.long),\n",
    "        }\n",
    "\n",
    "# 경로 설정\n",
    "base_train_dir = \"./Data\"\n",
    "train_dirs = [\"ZeroShot\", \"OneShot\", \"ThreeShot\"]\n",
    "test_file = \"./Data/Test.csv\"\n",
    "summary_file = \"./Data/Summary.csv\"\n",
    "\n",
    "# 모델 및 토크나이저 초기화\n",
    "tokenizer = AutoTokenizer.from_pretrained(\"bert-base-uncased\")\n",
    "model = AutoModelForSequenceClassification.from_pretrained(\"bert-base-uncased\", num_labels=3)  # 3개 클래스\n",
    "device = torch.device(\"cuda\" if torch.cuda.is_available() else \"cpu\")\n",
    "model.to(device)\n",
    "\n",
    "# 학습 및 평가 결과 저장\n",
    "results = []\n",
    "\n",
    "# 테스트 데이터 준비\n",
    "test_data = pd.read_csv(test_file)\n",
    "test_texts = test_data[\"comments\"].tolist()\n",
    "test_labels = test_data[\"hate\"].map({\"none\": 0, \"hate\": 1, \"offensive\": 2}).tolist()\n",
    "test_dataset = SimpleDataset(test_texts, test_labels, tokenizer, max_len=128)\n",
    "test_loader = DataLoader(test_dataset, batch_size=32, shuffle=False)\n",
    "\n",
    "# 학습 루프\n",
    "for train_dir_name in train_dirs:\n",
    "    train_dir = os.path.join(base_train_dir, train_dir_name)\n",
    "    for train_file in sorted(os.listdir(train_dir)):\n",
    "        if train_file.endswith(\".csv\"):\n",
    "            train_data = pd.read_csv(os.path.join(train_dir, train_file))\n",
    "            train_texts = train_data[\"comments\"].tolist()\n",
    "            train_labels = train_data[\"hate\"].map({\"none\": 0, \"hate\": 1, \"offensive\": 2}).tolist()\n",
    "\n",
    "            train_dataset = SimpleDataset(train_texts, train_labels, tokenizer, max_len=128)\n",
    "            train_loader = DataLoader(train_dataset, batch_size=32, shuffle=True)\n",
    "\n",
    "            # 옵티마이저 설정\n",
    "            optimizer = AdamW(model.parameters(), lr=5e-5)\n",
    "\n",
    "            # 학습\n",
    "            model.train()\n",
    "            for epoch in range(3):  # 3 에포크\n",
    "                total_loss = 0\n",
    "                for batch in train_loader:\n",
    "                    input_ids = batch[\"input_ids\"].to(device)\n",
    "                    attention_mask = batch[\"attention_mask\"].to(device)\n",
    "                    labels = batch[\"label\"].to(device)\n",
    "\n",
    "                    optimizer.zero_grad()\n",
    "                    outputs = model(input_ids, attention_mask=attention_mask, labels=labels)\n",
    "                    loss = outputs.loss\n",
    "                    loss.backward()\n",
    "                    optimizer.step()\n",
    "\n",
    "                    total_loss += loss.item()\n",
    "\n",
    "                print(f\"{train_dir_name}/{train_file} - Epoch {epoch + 1} - Loss: {total_loss:.4f}\")\n",
    "\n",
    "            # 평가\n",
    "            model.eval()\n",
    "            all_labels = []\n",
    "            all_preds = []\n",
    "            with torch.no_grad():\n",
    "                for batch in test_loader:\n",
    "                    input_ids = batch[\"input_ids\"].to(device)\n",
    "                    attention_mask = batch[\"attention_mask\"].to(device)\n",
    "                    labels = batch[\"label\"].to(device)\n",
    "\n",
    "                    outputs = model(input_ids, attention_mask=attention_mask)\n",
    "                    preds = torch.argmax(outputs.logits, axis=1).cpu().numpy()\n",
    "                    all_preds.extend(preds)\n",
    "                    all_labels.extend(labels.cpu().numpy())\n",
    "\n",
    "            f1_micro = f1_score(all_labels, all_preds, average=\"micro\")\n",
    "            f1_macro = f1_score(all_labels, all_preds, average=\"macro\")\n",
    "            print(f\"Test Results for {train_dir_name}/{train_file}: F1 Micro = {f1_micro:.4f}, F1 Macro = {f1_macro:.4f}\")\n",
    "            results.append({\"Dir\": train_dir_name, \"File\": train_file, \"F1 Micro\": f1_micro, \"F1 Macro\": f1_macro})\n",
    "\n",
    "# 결과 저장 또는 추가\n",
    "if os.path.exists(summary_file):\n",
    "    # 기존 파일이 있는 경우: 기존 데이터를 읽어서 새로운 데이터를 추가\n",
    "    existing_results = pd.read_csv(summary_file)\n",
    "    results_df = pd.concat([existing_results, pd.DataFrame(results)], ignore_index=True)\n",
    "else:\n",
    "    # 기존 파일이 없는 경우: 새로운 데이터만 저장\n",
    "    results_df = pd.DataFrame(results)\n",
    "\n",
    "results_df.to_csv(summary_file, index=False)\n",
    "print(f\"Summary updated and saved to {summary_file}\")\n"
   ]
  },
  {
   "cell_type": "code",
   "execution_count": null,
   "id": "25c83862-ed22-46d6-bbe0-e959fa761553",
   "metadata": {},
   "outputs": [],
   "source": []
  }
 ],
 "metadata": {
  "kernelspec": {
   "display_name": "Python 3 (ipykernel)",
   "language": "python",
   "name": "python3"
  },
  "language_info": {
   "codemirror_mode": {
    "name": "ipython",
    "version": 3
   },
   "file_extension": ".py",
   "mimetype": "text/x-python",
   "name": "python",
   "nbconvert_exporter": "python",
   "pygments_lexer": "ipython3",
   "version": "3.9.20"
  }
 },
 "nbformat": 4,
 "nbformat_minor": 5
}
