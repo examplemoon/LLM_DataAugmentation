{
 "cells": [
  {
   "cell_type": "code",
   "execution_count": 17,
   "id": "6dca4bb3-1fc6-4424-b5eb-a2a0a12262d7",
   "metadata": {},
   "outputs": [
    {
     "name": "stdout",
     "output_type": "stream",
     "text": [
      "안녕하세요, 저는 링크브릭스 호라이즌 AI입니다. 저는 사용자의 삶을 편리하게 만들고 지원해주는 인공지능 어시스턴트입니다. 어떤 도움이 필요하십니까?\n"
     ]
    }
   ],
   "source": [
    "import ollama\n",
    "response = ollama.chat(model='benedict/linkbricks-llama3.1-korean:70b', messages=[\n",
    "  {\n",
    "    'role': 'user',\n",
    "    'content': '안녕',\n",
    "  },\n",
    "])\n",
    "print(response['message']['content'])"
   ]
  },
  {
   "cell_type": "code",
   "execution_count": 32,
   "id": "cca8927b-b4ca-4860-b0cf-b89cce4ffa29",
   "metadata": {},
   "outputs": [
    {
     "name": "stdout",
     "output_type": "stream",
     "text": [
      "./Data/GR/GR_1.csv - 모든 클래스의 데이터 균형이 맞습니다. 최종 분포: hate\n",
      "none         44\n",
      "offensive    44\n",
      "hate         44\n",
      "Name: count, dtype: int64\n",
      "./Data/GR/GR_2.csv - 모든 클래스의 데이터 균형이 맞습니다. 최종 분포: hate\n",
      "offensive    47\n",
      "none         47\n",
      "hate         47\n",
      "Name: count, dtype: int64\n",
      "./Data/GR/GR_3.csv - 모든 클래스의 데이터 균형이 맞습니다. 최종 분포: hate\n",
      "hate         42\n",
      "none         42\n",
      "offensive    42\n",
      "Name: count, dtype: int64\n",
      "./Data/GR/GR_4.csv - 모든 클래스의 데이터 균형이 맞습니다. 최종 분포: hate\n",
      "none         50\n",
      "hate         50\n",
      "offensive    50\n",
      "Name: count, dtype: int64\n",
      "./Data/GR/GR_5.csv - 모든 클래스의 데이터 균형이 맞습니다. 최종 분포: hate\n",
      "offensive    40\n",
      "none         40\n",
      "hate         40\n",
      "Name: count, dtype: int64\n",
      "모든 파일에 대한 데이터 생성 및 저장이 완료되었습니다.\n"
     ]
    }
   ],
   "source": [
    "import pandas as pd\n",
    "import ollama\n",
    "import os\n",
    "\n",
    "# 경로 설정\n",
    "input_dir = \"./Data/None\"\n",
    "output_dir = \"./Data/GR\"\n",
    "os.makedirs(output_dir, exist_ok=True)  # 출력 디렉토리 생성\n",
    "\n",
    "# 데이터 생성 함수\n",
    "def generate_data(hate_type, missing_count, existing_data):\n",
    "    while missing_count > 0:\n",
    "        # Train 데이터에서 해당 클래스의 랜덤 예시 3개 추출\n",
    "        examples = existing_data[existing_data['hate'] == hate_type]['comments'].dropna().sample(3).tolist()\n",
    "        prompt = f\"\"\"\n",
    "        아래의 형식에 맞추어 {hate_type} 유형의 새로운 문장을 하나 작성해줘.\n",
    "        **출력 형식: {{새로운 문장}}**\n",
    "        다른 형식의 출력은 포함하지 말아줘.\n",
    "\n",
    "        예시:\n",
    "        1. {{ {examples[0]} }}\n",
    "        2. {{ {examples[1]} }}\n",
    "        3. {{ {examples[2]} }}\n",
    "\n",
    "        이제 새로운 문장을 작성해줘.\n",
    "        \"\"\"\n",
    "\n",
    "        # Ollama 호출\n",
    "        response = ollama.chat(model=\"benedict/linkbricks-llama3.1-korean:70b\", messages=[\n",
    "            {\n",
    "                \"role\": \"user\",\n",
    "                \"content\": prompt.strip(),\n",
    "            }\n",
    "        ])\n",
    "        generated_text = response['message']['content'].strip()\n",
    "\n",
    "        # 출력 형식 검증\n",
    "        if not (generated_text.startswith(\"{\") and generated_text.endswith(\"}\")):\n",
    "            continue\n",
    "\n",
    "        # 형식이 올바른 경우 저장\n",
    "        new_row = {\"comments\": generated_text[1:-1], \"hate\": hate_type}\n",
    "        existing_data = pd.concat([existing_data, pd.DataFrame([new_row])], ignore_index=True)\n",
    "        missing_count -= 1\n",
    "\n",
    "    return existing_data\n",
    "\n",
    "# 각 파일 처리\n",
    "for file_name in sorted(os.listdir(input_dir)):\n",
    "    if file_name.endswith(\".csv\"):\n",
    "        input_path = os.path.join(input_dir, file_name)\n",
    "        output_file = f\"GR_{file_name.split('_')[-1]}\"\n",
    "        output_path = os.path.join(output_dir, output_file)\n",
    "\n",
    "        # 파일 로드\n",
    "        gr_data = pd.read_csv(input_path)\n",
    "\n",
    "        # 클래스별 최대 개수 설정\n",
    "        target_count = gr_data['hate'].value_counts().max()\n",
    "\n",
    "        # 현재 데이터 분포 확인\n",
    "        current_counts = gr_data['hate'].value_counts()\n",
    "\n",
    "        # 부족한 클래스 데이터 생성\n",
    "        for hate_type in [\"offensive\", \"hate\"]:\n",
    "            current_count = current_counts.get(hate_type, 0)\n",
    "            missing_count = target_count - current_count  # 부족한 개수 계산\n",
    "            while missing_count > 0:\n",
    "                gr_data = generate_data(hate_type, missing_count, gr_data)\n",
    "                current_counts = gr_data['hate'].value_counts()  # 생성 후 분포 업데이트\n",
    "                missing_count = target_count - current_counts.get(hate_type, 0)\n",
    "\n",
    "        # 파일 저장\n",
    "        gr_data.to_csv(output_path, index=False, encoding=\"utf-8-sig\")\n",
    "\n",
    "        # 클래스 균형 확인\n",
    "        final_counts = gr_data['hate'].value_counts()\n",
    "        print(f\"{output_path} - 모든 클래스의 데이터 균형이 맞습니다. 최종 분포: {final_counts}\")\n",
    "\n",
    "# 최종 완료 메시지\n",
    "print(\"모든 파일에 대한 데이터 생성 및 저장이 완료되었습니다.\")\n"
   ]
  },
  {
   "cell_type": "code",
   "execution_count": 33,
   "id": "6adaeaa9-793c-4965-9cab-51c768ccdee1",
   "metadata": {},
   "outputs": [
    {
     "name": "stderr",
     "output_type": "stream",
     "text": [
      "Some weights of BertForSequenceClassification were not initialized from the model checkpoint at bert-base-uncased and are newly initialized: ['classifier.bias', 'classifier.weight']\n",
      "You should probably TRAIN this model on a down-stream task to be able to use it for predictions and inference.\n",
      "/usr/local/lib/python3.9/dist-packages/transformers/optimization.py:591: FutureWarning: This implementation of AdamW is deprecated and will be removed in a future version. Use the PyTorch implementation torch.optim.AdamW instead, or set `no_deprecation_warning=True` to disable this warning\n",
      "  warnings.warn(\n"
     ]
    },
    {
     "name": "stdout",
     "output_type": "stream",
     "text": [
      "GR_1.csv - Epoch 1 - Loss: 5.6620\n",
      "GR_1.csv - Epoch 2 - Loss: 5.4239\n",
      "GR_1.csv - Epoch 3 - Loss: 5.4416\n",
      "Test Results for GR_1.csv: F1 Micro = 0.3673, F1 Macro = 0.2975\n"
     ]
    },
    {
     "name": "stderr",
     "output_type": "stream",
     "text": [
      "/usr/local/lib/python3.9/dist-packages/transformers/optimization.py:591: FutureWarning: This implementation of AdamW is deprecated and will be removed in a future version. Use the PyTorch implementation torch.optim.AdamW instead, or set `no_deprecation_warning=True` to disable this warning\n",
      "  warnings.warn(\n"
     ]
    },
    {
     "name": "stdout",
     "output_type": "stream",
     "text": [
      "GR_2.csv - Epoch 1 - Loss: 5.6970\n",
      "GR_2.csv - Epoch 2 - Loss: 5.5288\n",
      "GR_2.csv - Epoch 3 - Loss: 5.5013\n",
      "Test Results for GR_2.csv: F1 Micro = 0.4034, F1 Macro = 0.1953\n"
     ]
    },
    {
     "name": "stderr",
     "output_type": "stream",
     "text": [
      "/usr/local/lib/python3.9/dist-packages/transformers/optimization.py:591: FutureWarning: This implementation of AdamW is deprecated and will be removed in a future version. Use the PyTorch implementation torch.optim.AdamW instead, or set `no_deprecation_warning=True` to disable this warning\n",
      "  warnings.warn(\n"
     ]
    },
    {
     "name": "stdout",
     "output_type": "stream",
     "text": [
      "GR_3.csv - Epoch 1 - Loss: 4.4310\n",
      "GR_3.csv - Epoch 2 - Loss: 4.3951\n",
      "GR_3.csv - Epoch 3 - Loss: 4.1675\n",
      "Test Results for GR_3.csv: F1 Micro = 0.3992, F1 Macro = 0.3856\n"
     ]
    },
    {
     "name": "stderr",
     "output_type": "stream",
     "text": [
      "/usr/local/lib/python3.9/dist-packages/transformers/optimization.py:591: FutureWarning: This implementation of AdamW is deprecated and will be removed in a future version. Use the PyTorch implementation torch.optim.AdamW instead, or set `no_deprecation_warning=True` to disable this warning\n",
      "  warnings.warn(\n"
     ]
    },
    {
     "name": "stdout",
     "output_type": "stream",
     "text": [
      "GR_4.csv - Epoch 1 - Loss: 5.1806\n",
      "GR_4.csv - Epoch 2 - Loss: 4.9747\n",
      "GR_4.csv - Epoch 3 - Loss: 4.7198\n",
      "Test Results for GR_4.csv: F1 Micro = 0.3715, F1 Macro = 0.3719\n"
     ]
    },
    {
     "name": "stderr",
     "output_type": "stream",
     "text": [
      "/usr/local/lib/python3.9/dist-packages/transformers/optimization.py:591: FutureWarning: This implementation of AdamW is deprecated and will be removed in a future version. Use the PyTorch implementation torch.optim.AdamW instead, or set `no_deprecation_warning=True` to disable this warning\n",
      "  warnings.warn(\n"
     ]
    },
    {
     "name": "stdout",
     "output_type": "stream",
     "text": [
      "GR_5.csv - Epoch 1 - Loss: 4.5588\n",
      "GR_5.csv - Epoch 2 - Loss: 4.2146\n",
      "GR_5.csv - Epoch 3 - Loss: 4.1156\n",
      "Test Results for GR_5.csv: F1 Micro = 0.3439, F1 Macro = 0.3303\n",
      "Summary updated and saved to ./Data/Summary.csv\n"
     ]
    }
   ],
   "source": [
    "import pandas as pd\n",
    "import torch\n",
    "from torch.utils.data import DataLoader, Dataset\n",
    "from transformers import AutoTokenizer, AutoModelForSequenceClassification, AdamW\n",
    "from sklearn.metrics import f1_score\n",
    "import os\n",
    "\n",
    "# 사용자 정의 데이터셋 클래스\n",
    "class SimpleDataset(Dataset):\n",
    "    def __init__(self, texts, labels, tokenizer, max_len):\n",
    "        self.texts = texts\n",
    "        self.labels = labels\n",
    "        self.tokenizer = tokenizer\n",
    "        self.max_len = max_len\n",
    "\n",
    "    def __len__(self):\n",
    "        return len(self.texts)\n",
    "\n",
    "    def __getitem__(self, idx):\n",
    "        inputs = self.tokenizer(\n",
    "            self.texts[idx],\n",
    "            add_special_tokens=True,\n",
    "            max_length=self.max_len,\n",
    "            padding=\"max_length\",\n",
    "            truncation=True,\n",
    "            return_tensors=\"pt\",\n",
    "        )\n",
    "        return {\n",
    "            \"input_ids\": inputs[\"input_ids\"].squeeze(0),\n",
    "            \"attention_mask\": inputs[\"attention_mask\"].squeeze(0),\n",
    "            \"label\": torch.tensor(self.labels[idx], dtype=torch.long),\n",
    "        }\n",
    "\n",
    "# 경로 설정\n",
    "train_dir = \"./Data/GR\"  # None을 SC로 변경\n",
    "test_file = \"./Data/Test.csv\"\n",
    "summary_file = \"./Data/Summary.csv\"\n",
    "\n",
    "# 모델 및 토크나이저 초기화\n",
    "tokenizer = AutoTokenizer.from_pretrained(\"bert-base-uncased\")\n",
    "model = AutoModelForSequenceClassification.from_pretrained(\"bert-base-uncased\", num_labels=3)  # 3개 클래스\n",
    "device = torch.device(\"cuda\" if torch.cuda.is_available() else \"cpu\")\n",
    "model.to(device)\n",
    "\n",
    "# 학습 및 평가 결과 저장\n",
    "results = []\n",
    "\n",
    "# 테스트 데이터 준비\n",
    "test_data = pd.read_csv(test_file)\n",
    "test_texts = test_data[\"comments\"].tolist()\n",
    "test_labels = test_data[\"hate\"].map({\"none\": 0, \"hate\": 1, \"offensive\": 2}).tolist()\n",
    "test_dataset = SimpleDataset(test_texts, test_labels, tokenizer, max_len=128)\n",
    "test_loader = DataLoader(test_dataset, batch_size=32, shuffle=False)\n",
    "\n",
    "# 학습 루프\n",
    "for train_file in sorted(os.listdir(train_dir)):\n",
    "    if train_file.endswith(\".csv\"):\n",
    "        train_data = pd.read_csv(os.path.join(train_dir, train_file))\n",
    "        train_texts = train_data[\"comments\"].tolist()\n",
    "        train_labels = train_data[\"hate\"].map({\"none\": 0, \"hate\": 1, \"offensive\": 2}).tolist()\n",
    "\n",
    "        train_dataset = SimpleDataset(train_texts, train_labels, tokenizer, max_len=128)\n",
    "        train_loader = DataLoader(train_dataset, batch_size=32, shuffle=True)\n",
    "\n",
    "        # 옵티마이저 설정\n",
    "        optimizer = AdamW(model.parameters(), lr=5e-5)\n",
    "\n",
    "        # 학습\n",
    "        model.train()\n",
    "        for epoch in range(3):  # 3 에포크\n",
    "            total_loss = 0\n",
    "            for batch in train_loader:\n",
    "                input_ids = batch[\"input_ids\"].to(device)\n",
    "                attention_mask = batch[\"attention_mask\"].to(device)\n",
    "                labels = batch[\"label\"].to(device)\n",
    "\n",
    "                optimizer.zero_grad()\n",
    "                outputs = model(input_ids, attention_mask=attention_mask, labels=labels)\n",
    "                loss = outputs.loss\n",
    "                loss.backward()\n",
    "                optimizer.step()\n",
    "\n",
    "                total_loss += loss.item()\n",
    "\n",
    "            print(f\"{train_file} - Epoch {epoch + 1} - Loss: {total_loss:.4f}\")\n",
    "\n",
    "        # 평가\n",
    "        model.eval()\n",
    "        all_labels = []\n",
    "        all_preds = []\n",
    "        with torch.no_grad():\n",
    "            for batch in test_loader:\n",
    "                input_ids = batch[\"input_ids\"].to(device)\n",
    "                attention_mask = batch[\"attention_mask\"].to(device)\n",
    "                labels = batch[\"label\"].to(device)\n",
    "\n",
    "                outputs = model(input_ids, attention_mask=attention_mask)\n",
    "                preds = torch.argmax(outputs.logits, axis=1).cpu().numpy()\n",
    "                all_preds.extend(preds)\n",
    "                all_labels.extend(labels.cpu().numpy())\n",
    "\n",
    "        f1_micro = f1_score(all_labels, all_preds, average=\"micro\")\n",
    "        f1_macro = f1_score(all_labels, all_preds, average=\"macro\")\n",
    "        print(f\"Test Results for {train_file}: F1 Micro = {f1_micro:.4f}, F1 Macro = {f1_macro:.4f}\")\n",
    "        results.append({\"File\": train_file, \"F1 Micro\": f1_micro, \"F1 Macro\": f1_macro})\n",
    "\n",
    "# 결과 저장 또는 추가\n",
    "if os.path.exists(summary_file):\n",
    "    # 기존 파일이 있는 경우: 기존 데이터를 읽어서 새로운 데이터를 추가\n",
    "    existing_results = pd.read_csv(summary_file)\n",
    "    results_df = pd.concat([existing_results, pd.DataFrame(results)], ignore_index=True)\n",
    "else:\n",
    "    # 기존 파일이 없는 경우: 새로운 데이터만 저장\n",
    "    results_df = pd.DataFrame(results)\n",
    "\n",
    "results_df.to_csv(summary_file, index=False)\n",
    "print(f\"Summary updated and saved to {summary_file}\")\n"
   ]
  },
  {
   "cell_type": "code",
   "execution_count": null,
   "id": "dfa2d868-0001-45b0-9edc-9e387a7738ba",
   "metadata": {},
   "outputs": [],
   "source": []
  }
 ],
 "metadata": {
  "kernelspec": {
   "display_name": "Python 3 (ipykernel)",
   "language": "python",
   "name": "python3"
  },
  "language_info": {
   "codemirror_mode": {
    "name": "ipython",
    "version": 3
   },
   "file_extension": ".py",
   "mimetype": "text/x-python",
   "name": "python",
   "nbconvert_exporter": "python",
   "pygments_lexer": "ipython3",
   "version": "3.9.20"
  }
 },
 "nbformat": 4,
 "nbformat_minor": 5
}
