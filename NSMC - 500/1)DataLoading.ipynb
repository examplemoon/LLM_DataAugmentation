{
 "cells": [
  {
   "cell_type": "code",
   "execution_count": 1,
   "id": "9c3f1d92-4df1-41f8-ad8b-f2ee2fad3fa4",
   "metadata": {},
   "outputs": [
    {
     "name": "stderr",
     "output_type": "stream",
     "text": [
      "Cloning into 'nsmc'...\n",
      "Updating files: 100% (14737/14737), done.\n"
     ]
    },
    {
     "name": "stdout",
     "output_type": "stream",
     "text": [
      "Train 데이터가 ./Data/Train.csv에 저장되었습니다.\n",
      "Test 데이터가 ./Data/Test.csv에 저장되었습니다.\n"
     ]
    }
   ],
   "source": [
    "import os\n",
    "import pandas as pd\n",
    "import subprocess\n",
    "\n",
    "# 데이터 저장 경로 설정\n",
    "data_dir = \"./Data\"\n",
    "os.makedirs(data_dir, exist_ok=True)\n",
    "\n",
    "# GitHub 저장소에서 데이터 다운로드\n",
    "repo_url = \"https://github.com/e9t/nsmc.git\"\n",
    "subprocess.run([\"git\", \"clone\", repo_url])\n",
    "\n",
    "# 파일 경로 설정\n",
    "train_path = \"./nsmc/ratings_train.txt\"\n",
    "test_path = \"./nsmc/ratings_test.txt\"\n",
    "train_save_path = os.path.join(data_dir, \"Train.csv\")\n",
    "test_save_path = os.path.join(data_dir, \"Test.csv\")\n",
    "\n",
    "# 데이터 로드\n",
    "train_data = pd.read_csv(train_path, sep='\\t', encoding='utf-8')\n",
    "test_data = pd.read_csv(test_path, sep='\\t', encoding='utf-8')\n",
    "\n",
    "# CSV 파일로 저장\n",
    "train_data.to_csv(train_save_path, index=False, encoding='utf-8')\n",
    "test_data.to_csv(test_save_path, index=False, encoding='utf-8')\n",
    "\n",
    "print(f\"Train 데이터가 {train_save_path}에 저장되었습니다.\")\n",
    "print(f\"Test 데이터가 {test_save_path}에 저장되었습니다.\")\n"
   ]
  },
  {
   "cell_type": "code",
   "execution_count": 1,
   "id": "58a2363e-866c-4ac0-a9b0-0e1c66b3f117",
   "metadata": {},
   "outputs": [
    {
     "name": "stdout",
     "output_type": "stream",
     "text": [
      "Train 데이터 label 분포:\n",
      "label\n",
      "0    75173\n",
      "1    74827\n",
      "Name: count, dtype: int64\n",
      "\n",
      "Test 데이터 label 분포:\n",
      "label\n",
      "1    25173\n",
      "0    24827\n",
      "Name: count, dtype: int64\n",
      "\n",
      "Train 데이터 label 비율:\n",
      "label\n",
      "0    50.115333\n",
      "1    49.884667\n",
      "Name: count, dtype: float64\n",
      "\n",
      "Test 데이터 label 비율:\n",
      "label\n",
      "1    50.346\n",
      "0    49.654\n",
      "Name: count, dtype: float64\n"
     ]
    }
   ],
   "source": [
    "import pandas as pd\n",
    "\n",
    "# 데이터 로드\n",
    "train_data = pd.read_csv('./Data/Train.csv', encoding='utf-8')\n",
    "test_data = pd.read_csv('./Data/Test.csv', encoding='utf-8')\n",
    "\n",
    "# Train 데이터 label 분포 출력\n",
    "print(\"Train 데이터 label 분포:\")\n",
    "train_label_counts = train_data['label'].value_counts()\n",
    "print(train_label_counts)\n",
    "\n",
    "# Test 데이터 label 분포 출력\n",
    "print(\"\\nTest 데이터 label 분포:\")\n",
    "test_label_counts = test_data['label'].value_counts()\n",
    "print(test_label_counts)\n",
    "\n",
    "# 비율 계산 및 출력\n",
    "print(\"\\nTrain 데이터 label 비율:\")\n",
    "print(train_label_counts / len(train_data) * 100)\n",
    "\n",
    "print(\"\\nTest 데이터 label 비율:\")\n",
    "print(test_label_counts / len(test_data) * 100)\n"
   ]
  },
  {
   "cell_type": "code",
   "execution_count": 4,
   "id": "a8ad99e7-1e0a-4de1-adeb-04e5e777c890",
   "metadata": {},
   "outputs": [
    {
     "name": "stdout",
     "output_type": "stream",
     "text": [
      "\n",
      "Train 데이터 라벨별 예시:\n",
      "\n",
      "라벨: 0 (5개 예시)\n",
      "1. 아 더빙.. 진짜 짜증나네요 목소리\n",
      "2. 너무재밓었다그래서보는것을추천한다\n",
      "3. 교도소 이야기구먼 ..솔직히 재미는 없다..평점 조정\n",
      "4. 막 걸음마 뗀 3세부터 초등학교 1학년생인 8살용영화.ㅋㅋㅋ...별반개도 아까움.\n",
      "5. 원작의 긴장감을 제대로 살려내지못했다.\n",
      "\n",
      "라벨: 1 (5개 예시)\n",
      "1. 흠...포스터보고 초딩영화줄....오버연기조차 가볍지 않구나\n",
      "2. 사이몬페그의 익살스런 연기가 돋보였던 영화!스파이더맨에서 늙어보이기만 했던 커스틴 던스트가 너무나도 이뻐보였다\n",
      "3. 액션이 없는데도 재미 있는 몇안되는 영화\n",
      "4. 왜케 평점이 낮은건데? 꽤 볼만한데.. 헐리우드식 화려함에만 너무 길들여져 있나?\n",
      "5. 걍인피니트가짱이다.진짜짱이다♥\n",
      "\n",
      "Test 데이터 라벨별 예시:\n",
      "\n",
      "라벨: 1 (5개 예시)\n",
      "1. 굳 ㅋ\n",
      "2. 음악이 주가 된, 최고의 음악영화\n",
      "3. 이별의 아픔뒤에 찾아오는 새로운 인연의 기쁨 But, 모든 사람이 그렇지는 않네..\n",
      "4. 괜찮네요오랜만포켓몬스터잼밌어요\n",
      "5. 청춘은 아름답다 그 아름다움은 이성을 흔들어 놓는다. 찰나의 아름다움을 잘 포착한 섬세하고 아름다운 수채화같은 퀴어영화이다.\n",
      "\n",
      "라벨: 0 (5개 예시)\n",
      "1. GDNTOPCLASSINTHECLUB\n",
      "2. 뭐야 이 평점들은.... 나쁘진 않지만 10점 짜리는 더더욱 아니잖아\n",
      "3. 지루하지는 않은데 완전 막장임... 돈주고 보기에는....\n",
      "4. 3D만 아니었어도 별 다섯 개 줬을텐데.. 왜 3D로 나와서 제 심기를 불편하게 하죠??\n",
      "5. 진정한 쓰레기\n"
     ]
    }
   ],
   "source": [
    "# 라벨별로 예시를 출력하는 함수\n",
    "def print_label_examples(data, label_column, text_column, num_examples=5):\n",
    "    labels = data[label_column].unique()\n",
    "    for label in labels:\n",
    "        print(f\"\\n라벨: {label} ({num_examples}개 예시)\")\n",
    "        examples = data[data[label_column] == label][text_column].head(num_examples)\n",
    "        for i, example in enumerate(examples, start=1):\n",
    "            print(f\"{i}. {example}\")\n",
    "\n",
    "# Train 데이터 라벨별 예시 출력\n",
    "print(\"\\nTrain 데이터 라벨별 예시:\")\n",
    "print_label_examples(train_data, label_column='label', text_column='document', num_examples=5)\n",
    "\n",
    "# Test 데이터 라벨별 예시 출력\n",
    "print(\"\\nTest 데이터 라벨별 예시:\")\n",
    "print_label_examples(test_data, label_column='label', text_column='document', num_examples=5)\n"
   ]
  },
  {
   "cell_type": "code",
   "execution_count": null,
   "id": "f6768f24-8332-4c4d-ac7a-fa25eb56e1ca",
   "metadata": {},
   "outputs": [],
   "source": []
  }
 ],
 "metadata": {
  "kernelspec": {
   "display_name": "Python 3 (ipykernel)",
   "language": "python",
   "name": "python3"
  },
  "language_info": {
   "codemirror_mode": {
    "name": "ipython",
    "version": 3
   },
   "file_extension": ".py",
   "mimetype": "text/x-python",
   "name": "python",
   "nbconvert_exporter": "python",
   "pygments_lexer": "ipython3",
   "version": "3.9.20"
  }
 },
 "nbformat": 4,
 "nbformat_minor": 5
}
